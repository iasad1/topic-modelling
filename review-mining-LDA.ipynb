{
 "cells": [
  {
   "cell_type": "markdown",
   "metadata": {},
   "source": [
    "# Importing libraries"
   ]
  },
  {
   "cell_type": "code",
   "execution_count": 1,
   "metadata": {},
   "outputs": [
    {
     "name": "stderr",
     "output_type": "stream",
     "text": [
      "[nltk_data] Downloading package stopwords to\n",
      "[nltk_data]     /Users/asadimam/nltk_data...\n",
      "[nltk_data]   Unzipping corpora/stopwords.zip.\n"
     ]
    },
    {
     "data": {
      "text/plain": [
       "True"
      ]
     },
     "execution_count": 1,
     "metadata": {},
     "output_type": "execute_result"
    }
   ],
   "source": [
    "import nltk\n",
    "from nltk import FreqDist\n",
    "nltk.download('stopwords')"
   ]
  },
  {
   "cell_type": "code",
   "execution_count": 4,
   "metadata": {},
   "outputs": [],
   "source": [
    "import pandas as pd\n",
    "pd.set_option('display.max_colwidth',200)\n",
    "import numpy as np\n",
    "import re\n",
    "import spacy\n",
    "import gensim\n",
    "from gensim import corpora\n",
    "import json\n"
   ]
  },
  {
   "cell_type": "code",
   "execution_count": 6,
   "metadata": {},
   "outputs": [
    {
     "name": "stderr",
     "output_type": "stream",
     "text": [
      "/Users/asadimam/opt/anaconda3/lib/python3.7/site-packages/past/builtins/misc.py:4: DeprecationWarning: Using or importing the ABCs from 'collections' instead of from 'collections.abc' is deprecated, and in 3.8 it will stop working\n",
      "  from collections import Mapping\n"
     ]
    }
   ],
   "source": [
    "# Libraries for visualisation\n",
    "\n",
    "import pyLDAvis\n",
    "import pyLDAvis.gensim\n",
    "import matplotlib.pyplot as plt\n",
    "import seaborn as sns\n",
    "%matplotlib inline"
   ]
  },
  {
   "cell_type": "markdown",
   "metadata": {},
   "source": [
    "# Reading data"
   ]
  },
  {
   "cell_type": "code",
   "execution_count": 7,
   "metadata": {},
   "outputs": [],
   "source": [
    "df = pd.read_json('Automotive_5.json', lines=True)"
   ]
  },
  {
   "cell_type": "code",
   "execution_count": 8,
   "metadata": {},
   "outputs": [
    {
     "data": {
      "text/html": [
       "<div>\n",
       "<style scoped>\n",
       "    .dataframe tbody tr th:only-of-type {\n",
       "        vertical-align: middle;\n",
       "    }\n",
       "\n",
       "    .dataframe tbody tr th {\n",
       "        vertical-align: top;\n",
       "    }\n",
       "\n",
       "    .dataframe thead th {\n",
       "        text-align: right;\n",
       "    }\n",
       "</style>\n",
       "<table border=\"1\" class=\"dataframe\">\n",
       "  <thead>\n",
       "    <tr style=\"text-align: right;\">\n",
       "      <th></th>\n",
       "      <th>reviewerID</th>\n",
       "      <th>asin</th>\n",
       "      <th>reviewerName</th>\n",
       "      <th>helpful</th>\n",
       "      <th>reviewText</th>\n",
       "      <th>overall</th>\n",
       "      <th>summary</th>\n",
       "      <th>unixReviewTime</th>\n",
       "      <th>reviewTime</th>\n",
       "    </tr>\n",
       "  </thead>\n",
       "  <tbody>\n",
       "    <tr>\n",
       "      <td>0</td>\n",
       "      <td>A3F73SC1LY51OO</td>\n",
       "      <td>B00002243X</td>\n",
       "      <td>Alan Montgomery</td>\n",
       "      <td>[4, 4]</td>\n",
       "      <td>I needed a set of jumper cables for my new car and these had good reviews and were at a good price.  They have been used a few times already and do what they are supposed to - no complaints there....</td>\n",
       "      <td>5</td>\n",
       "      <td>Work Well - Should Have Bought Longer Ones</td>\n",
       "      <td>1313539200</td>\n",
       "      <td>08 17, 2011</td>\n",
       "    </tr>\n",
       "    <tr>\n",
       "      <td>1</td>\n",
       "      <td>A20S66SKYXULG2</td>\n",
       "      <td>B00002243X</td>\n",
       "      <td>alphonse</td>\n",
       "      <td>[1, 1]</td>\n",
       "      <td>These long cables work fine for my truck, but the quality seems a little on the shabby side. For the money I was not expecting 200 dollar snap-on jumper cables but these seem more like what you wo...</td>\n",
       "      <td>4</td>\n",
       "      <td>Okay long cables</td>\n",
       "      <td>1315094400</td>\n",
       "      <td>09 4, 2011</td>\n",
       "    </tr>\n",
       "    <tr>\n",
       "      <td>2</td>\n",
       "      <td>A2I8LFSN2IS5EO</td>\n",
       "      <td>B00002243X</td>\n",
       "      <td>Chris</td>\n",
       "      <td>[0, 0]</td>\n",
       "      <td>Can't comment much on these since they have not yet been used (I will come back and update my review is I find any issues after first use) ... but they are built solid, nice tough big hard clamps ...</td>\n",
       "      <td>5</td>\n",
       "      <td>Looks and feels heavy Duty</td>\n",
       "      <td>1374710400</td>\n",
       "      <td>07 25, 2013</td>\n",
       "    </tr>\n",
       "    <tr>\n",
       "      <td>3</td>\n",
       "      <td>A3GT2EWQSO45ZG</td>\n",
       "      <td>B00002243X</td>\n",
       "      <td>DeusEx</td>\n",
       "      <td>[19, 19]</td>\n",
       "      <td>I absolutley love Amazon!!!  For the price of a set of cheap Booster/Jumper Cables in a brick and morter store, you can buy extra long and heavy duty jumpers!  First off, don't be the person that ...</td>\n",
       "      <td>5</td>\n",
       "      <td>Excellent choice for Jumper Cables!!!</td>\n",
       "      <td>1292889600</td>\n",
       "      <td>12 21, 2010</td>\n",
       "    </tr>\n",
       "    <tr>\n",
       "      <td>4</td>\n",
       "      <td>A3ESWJPAVRPWB4</td>\n",
       "      <td>B00002243X</td>\n",
       "      <td>E. Hernandez</td>\n",
       "      <td>[0, 0]</td>\n",
       "      <td>I purchased the 12' feet long cable set and they arrived in a retail cardboard box with handle, which could be used as a storage and carrying case for these cables, although I will not need to sto...</td>\n",
       "      <td>5</td>\n",
       "      <td>Excellent, High Quality Starter Cables</td>\n",
       "      <td>1341360000</td>\n",
       "      <td>07 4, 2012</td>\n",
       "    </tr>\n",
       "  </tbody>\n",
       "</table>\n",
       "</div>"
      ],
      "text/plain": [
       "       reviewerID        asin     reviewerName   helpful  \\\n",
       "0  A3F73SC1LY51OO  B00002243X  Alan Montgomery    [4, 4]   \n",
       "1  A20S66SKYXULG2  B00002243X         alphonse    [1, 1]   \n",
       "2  A2I8LFSN2IS5EO  B00002243X            Chris    [0, 0]   \n",
       "3  A3GT2EWQSO45ZG  B00002243X           DeusEx  [19, 19]   \n",
       "4  A3ESWJPAVRPWB4  B00002243X     E. Hernandez    [0, 0]   \n",
       "\n",
       "                                                                                                                                                                                                reviewText  \\\n",
       "0  I needed a set of jumper cables for my new car and these had good reviews and were at a good price.  They have been used a few times already and do what they are supposed to - no complaints there....   \n",
       "1  These long cables work fine for my truck, but the quality seems a little on the shabby side. For the money I was not expecting 200 dollar snap-on jumper cables but these seem more like what you wo...   \n",
       "2  Can't comment much on these since they have not yet been used (I will come back and update my review is I find any issues after first use) ... but they are built solid, nice tough big hard clamps ...   \n",
       "3  I absolutley love Amazon!!!  For the price of a set of cheap Booster/Jumper Cables in a brick and morter store, you can buy extra long and heavy duty jumpers!  First off, don't be the person that ...   \n",
       "4  I purchased the 12' feet long cable set and they arrived in a retail cardboard box with handle, which could be used as a storage and carrying case for these cables, although I will not need to sto...   \n",
       "\n",
       "   overall                                     summary  unixReviewTime  \\\n",
       "0        5  Work Well - Should Have Bought Longer Ones      1313539200   \n",
       "1        4                            Okay long cables      1315094400   \n",
       "2        5                  Looks and feels heavy Duty      1374710400   \n",
       "3        5       Excellent choice for Jumper Cables!!!      1292889600   \n",
       "4        5      Excellent, High Quality Starter Cables      1341360000   \n",
       "\n",
       "    reviewTime  \n",
       "0  08 17, 2011  \n",
       "1   09 4, 2011  \n",
       "2  07 25, 2013  \n",
       "3  12 21, 2010  \n",
       "4   07 4, 2012  "
      ]
     },
     "execution_count": 8,
     "metadata": {},
     "output_type": "execute_result"
    }
   ],
   "source": [
    "df.head()"
   ]
  },
  {
   "cell_type": "markdown",
   "metadata": {},
   "source": [
    "# Data(Text) preprocessing "
   ]
  },
  {
   "cell_type": "markdown",
   "metadata": {},
   "source": [
    "In this step, we will remove the punctuations, stopwords and normalize the reviews as much as possible. After every preprocessing step, it is a good practice to check the most frequent words in the data."
   ]
  },
  {
   "cell_type": "code",
   "execution_count": 9,
   "metadata": {},
   "outputs": [],
   "source": [
    "# function to plot most frequent terms\n",
    "def freq_words(x, terms = 30):\n",
    "  all_words = ' '.join([text for text in x])\n",
    "  all_words = all_words.split()\n",
    "\n",
    "  fdist = FreqDist(all_words)\n",
    "  words_df = pd.DataFrame({'word':list(fdist.keys()), 'count':list(fdist.values())})\n",
    "\n",
    "  # selecting top 20 most frequent words\n",
    "  d = words_df.nlargest(columns=\"count\", n = terms) \n",
    "  plt.figure(figsize=(20,5))\n",
    "  ax = sns.barplot(data=d, x= \"word\", y = \"count\")\n",
    "  ax.set(ylabel = 'Count')\n",
    "  plt.show()"
   ]
  },
  {
   "cell_type": "code",
   "execution_count": 10,
   "metadata": {},
   "outputs": [
    {
     "data": {
      "image/png": "[encoded data removed]",
      "text/plain": [
       "<Figure size 1440x360 with 1 Axes>"
      ]
     },
     "metadata": {
      "needs_background": "light"
     },
     "output_type": "display_data"
    }
   ],
   "source": [
    "freq_words(df['reviewText'])\n"
   ]
  },
  {
   "cell_type": "markdown",
   "metadata": {},
   "source": [
    " - Looking at the data above it's clear that the most commonly used words are 'the','and','to' and so forth.\n",
    " - Such words provide no context so need to remove these\n",
    " - It's good practise to keep checking after every step of pre-processing"
   ]
  },
  {
   "cell_type": "markdown",
   "metadata": {},
   "source": [
    "## Removing punctuations\n",
    "\n",
    "We also need to remove punctuations"
   ]
  },
  {
   "cell_type": "code",
   "execution_count": 11,
   "metadata": {},
   "outputs": [],
   "source": [
    "df['reviewText'] = df['reviewText'].str.replace(\"[^a-zA-Z#]\", \" \")"
   ]
  },
  {
   "cell_type": "markdown",
   "metadata": {},
   "source": [
    "## Removing stopwords"
   ]
  },
  {
   "cell_type": "code",
   "execution_count": 12,
   "metadata": {},
   "outputs": [],
   "source": [
    "from nltk.corpus import stopwords\n",
    "stop_words = stopwords.words('english')\n"
   ]
  },
  {
   "cell_type": "code",
   "execution_count": 13,
   "metadata": {},
   "outputs": [
    {
     "data": {
      "text/plain": [
       "['i', 'me', 'my', 'myself', 'we', 'our', 'ours', 'ourselves', 'you', \"you're\"]"
      ]
     },
     "execution_count": 13,
     "metadata": {},
     "output_type": "execute_result"
    }
   ],
   "source": [
    "stop_words[0:10]"
   ]
  },
  {
   "cell_type": "code",
   "execution_count": 14,
   "metadata": {},
   "outputs": [],
   "source": [
    "# function to remove stopwords\n",
    "def remove_stopwords(rev):\n",
    "    rev_new = \" \".join([i for i in rev if i not in stop_words])\n",
    "    return rev_new\n"
   ]
  },
  {
   "cell_type": "code",
   "execution_count": 15,
   "metadata": {},
   "outputs": [],
   "source": [
    "# remove short words (length < 3)\n",
    "df['reviewText'] = df['reviewText'].apply(lambda x: ' '.join([w for w in x.split() if len(w)>2]))"
   ]
  },
  {
   "cell_type": "code",
   "execution_count": 16,
   "metadata": {},
   "outputs": [],
   "source": [
    "# remove stopwords from the text\n",
    "reviews = [remove_stopwords(r.split()) for r in df['reviewText']]"
   ]
  },
  {
   "cell_type": "code",
   "execution_count": 17,
   "metadata": {},
   "outputs": [],
   "source": [
    "# make entire text lowercase\n",
    "reviews = [r.lower() for r in reviews]"
   ]
  },
  {
   "cell_type": "code",
   "execution_count": 18,
   "metadata": {},
   "outputs": [
    {
     "data": {
      "image/png": "[encoded data removed]",
      "text/plain": [
       "<Figure size 1440x360 with 1 Axes>"
      ]
     },
     "metadata": {
      "needs_background": "light"
     },
     "output_type": "display_data"
    }
   ],
   "source": [
    "freq_words(reviews, 35)\n"
   ]
  },
  {
   "cell_type": "markdown",
   "metadata": {},
   "source": [
    " - We can see the more context words like 'car', 'batter', 'oil' have now become the most frequently appear words.\n",
    " - However words such 'the', 'this','they' still appear"
   ]
  },
  {
   "cell_type": "markdown",
   "metadata": {},
   "source": [
    "## Lemmatisation\n",
    "\n",
    "The process of reducing any given word to its base form thereby reducing multiple forms of a word to a single word"
   ]
  },
  {
   "cell_type": "code",
   "execution_count": 25,
   "metadata": {},
   "outputs": [
    {
     "name": "stdout",
     "output_type": "stream",
     "text": [
      "Collecting en_core_web_sm==2.3.1 from https://github.com/explosion/spacy-models/releases/download/en_core_web_sm-2.3.1/en_core_web_sm-2.3.1.tar.gz#egg=en_core_web_sm==2.3.1\n",
      "\u001b[?25l  Downloading https://github.com/explosion/spacy-models/releases/download/en_core_web_sm-2.3.1/en_core_web_sm-2.3.1.tar.gz (12.0MB)\n",
      "\u001b[K     |████████████████████████████████| 12.1MB 4.0MB/s eta 0:00:01    |████████████████████████▋       | 9.3MB 578kB/s eta 0:00:05\n",
      "\u001b[?25hRequirement already satisfied: spacy<2.4.0,>=2.3.0 in /Users/asadimam/opt/anaconda3/lib/python3.7/site-packages (from en_core_web_sm==2.3.1) (2.3.5)\n",
      "Requirement already satisfied: thinc<7.5.0,>=7.4.1 in /Users/asadimam/opt/anaconda3/lib/python3.7/site-packages (from spacy<2.4.0,>=2.3.0->en_core_web_sm==2.3.1) (7.4.5)\n",
      "Requirement already satisfied: wasabi<1.1.0,>=0.4.0 in /Users/asadimam/opt/anaconda3/lib/python3.7/site-packages (from spacy<2.4.0,>=2.3.0->en_core_web_sm==2.3.1) (0.8.0)\n",
      "Requirement already satisfied: srsly<1.1.0,>=1.0.2 in /Users/asadimam/opt/anaconda3/lib/python3.7/site-packages (from spacy<2.4.0,>=2.3.0->en_core_web_sm==2.3.1) (1.0.5)\n",
      "Requirement already satisfied: murmurhash<1.1.0,>=0.28.0 in /Users/asadimam/opt/anaconda3/lib/python3.7/site-packages (from spacy<2.4.0,>=2.3.0->en_core_web_sm==2.3.1) (1.0.5)\n",
      "Requirement already satisfied: preshed<3.1.0,>=3.0.2 in /Users/asadimam/opt/anaconda3/lib/python3.7/site-packages (from spacy<2.4.0,>=2.3.0->en_core_web_sm==2.3.1) (3.0.5)\n",
      "Requirement already satisfied: tqdm<5.0.0,>=4.38.0 in /Users/asadimam/opt/anaconda3/lib/python3.7/site-packages (from spacy<2.4.0,>=2.3.0->en_core_web_sm==2.3.1) (4.54.1)\n",
      "Requirement already satisfied: plac<1.2.0,>=0.9.6 in /Users/asadimam/opt/anaconda3/lib/python3.7/site-packages (from spacy<2.4.0,>=2.3.0->en_core_web_sm==2.3.1) (1.1.3)\n",
      "Requirement already satisfied: requests<3.0.0,>=2.13.0 in /Users/asadimam/opt/anaconda3/lib/python3.7/site-packages (from spacy<2.4.0,>=2.3.0->en_core_web_sm==2.3.1) (2.22.0)\n",
      "Requirement already satisfied: catalogue<1.1.0,>=0.0.7 in /Users/asadimam/opt/anaconda3/lib/python3.7/site-packages (from spacy<2.4.0,>=2.3.0->en_core_web_sm==2.3.1) (1.0.0)\n",
      "Requirement already satisfied: blis<0.8.0,>=0.4.0 in /Users/asadimam/opt/anaconda3/lib/python3.7/site-packages (from spacy<2.4.0,>=2.3.0->en_core_web_sm==2.3.1) (0.7.4)\n",
      "Requirement already satisfied: cymem<2.1.0,>=2.0.2 in /Users/asadimam/opt/anaconda3/lib/python3.7/site-packages (from spacy<2.4.0,>=2.3.0->en_core_web_sm==2.3.1) (2.0.5)\n",
      "Requirement already satisfied: setuptools in /Users/asadimam/opt/anaconda3/lib/python3.7/site-packages (from spacy<2.4.0,>=2.3.0->en_core_web_sm==2.3.1) (41.4.0)\n",
      "Requirement already satisfied: numpy>=1.15.0 in /Users/asadimam/opt/anaconda3/lib/python3.7/site-packages (from spacy<2.4.0,>=2.3.0->en_core_web_sm==2.3.1) (1.17.2)\n",
      "Requirement already satisfied: urllib3!=1.25.0,!=1.25.1,<1.26,>=1.21.1 in /Users/asadimam/opt/anaconda3/lib/python3.7/site-packages (from requests<3.0.0,>=2.13.0->spacy<2.4.0,>=2.3.0->en_core_web_sm==2.3.1) (1.24.2)\n",
      "Requirement already satisfied: chardet<3.1.0,>=3.0.2 in /Users/asadimam/opt/anaconda3/lib/python3.7/site-packages (from requests<3.0.0,>=2.13.0->spacy<2.4.0,>=2.3.0->en_core_web_sm==2.3.1) (3.0.4)\n",
      "Requirement already satisfied: idna<2.9,>=2.5 in /Users/asadimam/opt/anaconda3/lib/python3.7/site-packages (from requests<3.0.0,>=2.13.0->spacy<2.4.0,>=2.3.0->en_core_web_sm==2.3.1) (2.8)\n",
      "Requirement already satisfied: certifi>=2017.4.17 in /Users/asadimam/opt/anaconda3/lib/python3.7/site-packages (from requests<3.0.0,>=2.13.0->spacy<2.4.0,>=2.3.0->en_core_web_sm==2.3.1) (2019.9.11)\n",
      "Requirement already satisfied: importlib-metadata>=0.20; python_version < \"3.8\" in /Users/asadimam/opt/anaconda3/lib/python3.7/site-packages (from catalogue<1.1.0,>=0.0.7->spacy<2.4.0,>=2.3.0->en_core_web_sm==2.3.1) (0.23)\n",
      "Requirement already satisfied: zipp>=0.5 in /Users/asadimam/opt/anaconda3/lib/python3.7/site-packages (from importlib-metadata>=0.20; python_version < \"3.8\"->catalogue<1.1.0,>=0.0.7->spacy<2.4.0,>=2.3.0->en_core_web_sm==2.3.1) (0.6.0)\n",
      "Requirement already satisfied: more-itertools in /Users/asadimam/opt/anaconda3/lib/python3.7/site-packages (from zipp>=0.5->importlib-metadata>=0.20; python_version < \"3.8\"->catalogue<1.1.0,>=0.0.7->spacy<2.4.0,>=2.3.0->en_core_web_sm==2.3.1) (7.2.0)\n",
      "Building wheels for collected packages: en-core-web-sm\n",
      "  Building wheel for en-core-web-sm (setup.py) ... \u001b[?25ldone\n",
      "\u001b[?25h  Created wheel for en-core-web-sm: filename=en_core_web_sm-2.3.1-cp37-none-any.whl size=12047110 sha256=49280b0411e8e0cf4e5026cd3ae509f0f9dd4bce68b8221c558927cb6f6b1465\n",
      "  Stored in directory: /private/var/folders/fp/r599qgn51yx03grg19j778fc0000gp/T/pip-ephem-wheel-cache-4_4fcuep/wheels/2b/3f/41/f0b92863355c3ba34bb32b37d8a0c662959da0058202094f46\n",
      "Successfully built en-core-web-sm\n",
      "Installing collected packages: en-core-web-sm\n",
      "Successfully installed en-core-web-sm-2.3.1\n",
      "\u001b[38;5;2m✔ Download and installation successful\u001b[0m\n",
      "You can now load the model via spacy.load('en_core_web_sm')\n",
      "\u001b[38;5;2m✔ Linking successful\u001b[0m\n",
      "/Users/asadimam/opt/anaconda3/lib/python3.7/site-packages/en_core_web_sm -->\n",
      "/Users/asadimam/opt/anaconda3/lib/python3.7/site-packages/spacy/data/en\n",
      "You can now load the model via spacy.load('en')\n"
     ]
    }
   ],
   "source": [
    "!python -m spacy download en"
   ]
  },
  {
   "cell_type": "code",
   "execution_count": 26,
   "metadata": {},
   "outputs": [],
   "source": [
    "nlp = spacy.load('en', disable=['parser', 'ner'])\n"
   ]
  },
  {
   "cell_type": "code",
   "execution_count": 27,
   "metadata": {},
   "outputs": [],
   "source": [
    "def lemmatization(texts, tags=['NOUN', 'ADJ']): # filter noun and adjective\n",
    "       output = []\n",
    "       for sent in texts:\n",
    "             doc = nlp(\" \".join(sent)) \n",
    "             output.append([token.lemma_ for token in doc if token.pos_ in tags])\n",
    "       return output"
   ]
  },
  {
   "cell_type": "markdown",
   "metadata": {},
   "source": [
    "## Tokenise reviews and then lemmatise the tokenised review"
   ]
  },
  {
   "cell_type": "code",
   "execution_count": 28,
   "metadata": {},
   "outputs": [
    {
     "name": "stdout",
     "output_type": "stream",
     "text": [
      "['these', 'long', 'cables', 'work', 'fine', 'truck', 'quality', 'seems', 'little', 'shabby', 'side', 'for', 'money', 'expecting', 'dollar', 'snap', 'jumper', 'cables', 'seem', 'like', 'would', 'see', 'chinese', 'knock', 'shop', 'like', 'harbor', 'freight', 'bucks']\n"
     ]
    }
   ],
   "source": [
    "tokenized_reviews = pd.Series(reviews).apply(lambda x: x.split())\n",
    "print(tokenized_reviews[1])"
   ]
  },
  {
   "cell_type": "code",
   "execution_count": 29,
   "metadata": {},
   "outputs": [
    {
     "name": "stdout",
     "output_type": "stream",
     "text": [
      "['long', 'cable', 'fine', 'truck', 'quality', 'little', 'shabby', 'side', 'money', 'expecting', 'dollar', 'cable', 'chinese', 'shop', 'harbor', 'freight', 'buck']\n"
     ]
    }
   ],
   "source": [
    "reviews_2 = lemmatization(tokenized_reviews)\n",
    "print(reviews_2[1]) # print lemmatized review"
   ]
  },
  {
   "cell_type": "markdown",
   "metadata": {},
   "source": [
    "### We have not just lemmatized the words but also filtered only nouns and adjectives. Let’s de-tokenize the lemmatized reviews and plot the most common words."
   ]
  },
  {
   "cell_type": "code",
   "execution_count": 30,
   "metadata": {},
   "outputs": [
    {
     "data": {
      "image/png": "[encoded data removed]",
      "text/plain": [
       "<Figure size 1440x360 with 1 Axes>"
      ]
     },
     "metadata": {
      "needs_background": "light"
     },
     "output_type": "display_data"
    }
   ],
   "source": [
    "reviews_3 = []\n",
    "for i in range(len(reviews_2)):\n",
    "    reviews_3.append(' '.join(reviews_2[i]))\n",
    "\n",
    "df['reviews'] = reviews_3\n",
    "\n",
    "freq_words(df['reviews'], 35)"
   ]
  },
  {
   "cell_type": "markdown",
   "metadata": {},
   "source": [
    "# Building the LDA model"
   ]
  },
  {
   "cell_type": "markdown",
   "metadata": {},
   "source": [
    "We will start by creating the term dictionary of our corpus, where every unique term is assigned an index\n",
    "\n"
   ]
  },
  {
   "cell_type": "code",
   "execution_count": 31,
   "metadata": {},
   "outputs": [],
   "source": [
    "dictionary = corpora.Dictionary(reviews_2)\n"
   ]
  },
  {
   "cell_type": "markdown",
   "metadata": {},
   "source": [
    "Then we will convert the list of reviews (reviews_2) into a Document Term Matrix using the dictionary prepared above.\n",
    "\n"
   ]
  },
  {
   "cell_type": "code",
   "execution_count": 32,
   "metadata": {},
   "outputs": [],
   "source": [
    "doc_term_matrix = [dictionary.doc2bow(rev) for rev in reviews_2]\n"
   ]
  },
  {
   "cell_type": "markdown",
   "metadata": {},
   "source": [
    "### Creating the object for LDA model using gensim library\n"
   ]
  },
  {
   "cell_type": "code",
   "execution_count": 33,
   "metadata": {},
   "outputs": [],
   "source": [
    "LDA = gensim.models.ldamodel.LdaModel\n"
   ]
  },
  {
   "cell_type": "code",
   "execution_count": 34,
   "metadata": {},
   "outputs": [],
   "source": [
    "# Build LDA model"
   ]
  },
  {
   "cell_type": "code",
   "execution_count": 35,
   "metadata": {},
   "outputs": [],
   "source": [
    "lda_model = LDA(corpus=doc_term_matrix, id2word=dictionary, num_topics=7, random_state=100,\n",
    "                chunksize=1000, passes=50)"
   ]
  },
  {
   "cell_type": "code",
   "execution_count": 36,
   "metadata": {},
   "outputs": [
    {
     "data": {
      "text/plain": [
       "[(0,\n",
       "  '0.047*\"battery\" + 0.033*\"car\" + 0.024*\"power\" + 0.019*\"device\" + 0.019*\"unit\" + 0.015*\"plug\" + 0.013*\"phone\" + 0.012*\"use\" + 0.012*\"charger\" + 0.012*\"light\"'),\n",
       " (1,\n",
       "  '0.060*\"tire\" + 0.035*\"hose\" + 0.033*\"wheel\" + 0.033*\"water\" + 0.028*\"pressure\" + 0.023*\"gauge\" + 0.017*\"air\" + 0.014*\"tank\" + 0.014*\"valve\" + 0.011*\"tape\"'),\n",
       " (2,\n",
       "  '0.045*\"car\" + 0.034*\"product\" + 0.022*\"towel\" + 0.020*\"good\" + 0.018*\"clean\" + 0.014*\"great\" + 0.013*\"use\" + 0.013*\"water\" + 0.013*\"wax\" + 0.012*\"leather\"'),\n",
       " (3,\n",
       "  '0.017*\"good\" + 0.015*\"blade\" + 0.014*\"wiper\" + 0.013*\"great\" + 0.011*\"easy\" + 0.011*\"time\" + 0.011*\"work\" + 0.009*\"thing\" + 0.009*\"product\" + 0.008*\"side\"'),\n",
       " (4,\n",
       "  '0.102*\"light\" + 0.042*\"bulb\" + 0.030*\"bright\" + 0.015*\"headlight\" + 0.015*\"color\" + 0.014*\"white\" + 0.014*\"inverter\" + 0.012*\"mat\" + 0.012*\"kit\" + 0.011*\"night\"'),\n",
       " (5,\n",
       "  '0.035*\"tool\" + 0.023*\"seat\" + 0.022*\"brush\" + 0.016*\"hand\" + 0.015*\"chemical\" + 0.013*\"grease\" + 0.013*\"glove\" + 0.008*\"polisher\" + 0.007*\"kid\" + 0.007*\"scraper\"'),\n",
       " (6,\n",
       "  '0.033*\"oil\" + 0.023*\"filter\" + 0.021*\"car\" + 0.020*\"engine\" + 0.015*\"change\" + 0.015*\"code\" + 0.014*\"good\" + 0.012*\"price\" + 0.012*\"product\" + 0.010*\"app\"')]"
      ]
     },
     "execution_count": 36,
     "metadata": {},
     "output_type": "execute_result"
    }
   ],
   "source": [
    "lda_model.print_topics()\n"
   ]
  },
  {
   "cell_type": "markdown",
   "metadata": {},
   "source": [
    "# Topics visualisation"
   ]
  },
  {
   "cell_type": "code",
   "execution_count": 37,
   "metadata": {},
   "outputs": [
    {
     "name": "stderr",
     "output_type": "stream",
     "text": [
      "/Users/asadimam/opt/anaconda3/lib/python3.7/site-packages/pyLDAvis/_prepare.py:257: FutureWarning: Sorting because non-concatenation axis is not aligned. A future version\n",
      "of pandas will change to not sort by default.\n",
      "\n",
      "To accept the future behavior, pass 'sort=False'.\n",
      "\n",
      "To retain the current behavior and silence the warning, pass 'sort=True'.\n",
      "\n",
      "  return pd.concat([default_term_info] + list(topic_dfs))\n"
     ]
    },
    {
     "data": {
      "text/html": [
       "\n",
       "<link rel=\"stylesheet\" type=\"text/css\" href=\"https://cdn.rawgit.com/bmabey/pyLDAvis/files/ldavis.v1.0.0.css\">\n",
       "\n",
       "\n",
       "<div id=\"ldavis_el196581405013520594727144993472\"></div>\n",
       "<script type=\"text/javascript\">\n",
       "\n",
       "var ldavis_el196581405013520594727144993472_data = {\"mdsDat\": {\"x\": [-0.10305675601940187, -0.12819832498389103, -0.10611666052709441, -0.12585247906495367, -0.0768563330819492, 0.19000584105851842, 0.3500747126187715], \"y\": [0.0446419295967051, 0.04433675252782153, 0.053138841749144, 0.02232613092624116, -0.05288345968982449, -0.33562577869399435, 0.22406558358390707], \"topics\": [1, 2, 3, 4, 5, 6, 7], \"cluster\": [1, 1, 1, 1, 1, 1, 1], \"Freq\": [30.788410186767578, 24.83348846435547, 12.439408302307129, 11.938789367675781, 7.435883045196533, 7.234111309051514, 5.329904556274414]}, \"tinfo\": {\"Category\": [\"Default\", \"Default\", \"Default\", \"Default\", \"Default\", \"Default\", \"Default\", \"Default\", \"Default\", \"Default\", \"Default\", \"Default\", \"Default\", \"Default\", \"Default\", \"Default\", \"Default\", \"Default\", \"Default\", \"Default\", \"Default\", \"Default\", \"Default\", \"Default\", \"Default\", \"Default\", \"Default\", \"Default\", \"Default\", \"Default\", \"Topic1\", \"Topic1\", \"Topic1\", \"Topic1\", \"Topic1\", \"Topic1\", \"Topic1\", \"Topic1\", \"Topic1\", \"Topic1\", \"Topic1\", \"Topic1\", \"Topic1\", \"Topic1\", \"Topic1\", \"Topic1\", \"Topic1\", \"Topic1\", \"Topic1\", \"Topic1\", \"Topic1\", \"Topic1\", \"Topic1\", \"Topic1\", \"Topic1\", \"Topic1\", \"Topic1\", \"Topic1\", \"Topic1\", \"Topic1\", \"Topic1\", \"Topic1\", \"Topic1\", \"Topic1\", \"Topic1\", \"Topic1\", \"Topic1\", \"Topic1\", \"Topic1\", \"Topic1\", \"Topic1\", \"Topic1\", \"Topic1\", \"Topic1\", \"Topic1\", \"Topic1\", \"Topic1\", \"Topic1\", \"Topic1\", \"Topic1\", \"Topic1\", \"Topic1\", \"Topic1\", \"Topic1\", \"Topic1\", \"Topic1\", \"Topic1\", \"Topic1\", \"Topic1\", \"Topic1\", \"Topic1\", \"Topic1\", \"Topic1\", \"Topic1\", \"Topic1\", \"Topic1\", \"Topic1\", \"Topic1\", \"Topic1\", \"Topic2\", \"Topic2\", \"Topic2\", \"Topic2\", \"Topic2\", \"Topic2\", \"Topic2\", \"Topic2\", \"Topic2\", \"Topic2\", \"Topic2\", \"Topic2\", \"Topic2\", \"Topic2\", \"Topic2\", \"Topic2\", \"Topic2\", \"Topic2\", \"Topic2\", \"Topic2\", \"Topic2\", \"Topic2\", \"Topic2\", \"Topic2\", \"Topic2\", \"Topic2\", \"Topic2\", \"Topic2\", \"Topic2\", \"Topic2\", \"Topic2\", \"Topic2\", \"Topic2\", \"Topic2\", \"Topic2\", \"Topic2\", \"Topic2\", \"Topic2\", \"Topic2\", \"Topic2\", \"Topic2\", \"Topic2\", \"Topic2\", \"Topic2\", \"Topic2\", \"Topic2\", \"Topic2\", \"Topic2\", \"Topic2\", \"Topic2\", \"Topic2\", \"Topic3\", \"Topic3\", \"Topic3\", \"Topic3\", \"Topic3\", \"Topic3\", \"Topic3\", \"Topic3\", \"Topic3\", \"Topic3\", \"Topic3\", \"Topic3\", \"Topic3\", \"Topic3\", \"Topic3\", \"Topic3\", \"Topic3\", \"Topic3\", \"Topic3\", \"Topic3\", \"Topic3\", \"Topic3\", \"Topic3\", \"Topic3\", \"Topic3\", \"Topic3\", \"Topic3\", \"Topic3\", \"Topic3\", \"Topic3\", \"Topic3\", \"Topic3\", \"Topic3\", \"Topic3\", \"Topic3\", \"Topic3\", \"Topic3\", \"Topic3\", \"Topic3\", \"Topic3\", \"Topic3\", \"Topic3\", \"Topic3\", \"Topic3\", \"Topic3\", \"Topic3\", \"Topic3\", \"Topic3\", \"Topic3\", \"Topic3\", \"Topic3\", \"Topic3\", \"Topic4\", \"Topic4\", \"Topic4\", \"Topic4\", \"Topic4\", \"Topic4\", \"Topic4\", \"Topic4\", \"Topic4\", \"Topic4\", \"Topic4\", \"Topic4\", \"Topic4\", \"Topic4\", \"Topic4\", \"Topic4\", \"Topic4\", \"Topic4\", \"Topic4\", \"Topic4\", \"Topic4\", \"Topic4\", \"Topic4\", \"Topic4\", \"Topic4\", \"Topic4\", \"Topic4\", \"Topic4\", \"Topic4\", \"Topic4\", \"Topic4\", \"Topic4\", \"Topic4\", \"Topic4\", \"Topic4\", \"Topic4\", \"Topic4\", \"Topic4\", \"Topic4\", \"Topic4\", \"Topic4\", \"Topic4\", \"Topic4\", \"Topic4\", \"Topic4\", \"Topic4\", \"Topic4\", \"Topic4\", \"Topic4\", \"Topic4\", \"Topic4\", \"Topic4\", \"Topic4\", \"Topic4\", \"Topic4\", \"Topic4\", \"Topic5\", \"Topic5\", \"Topic5\", \"Topic5\", \"Topic5\", \"Topic5\", \"Topic5\", \"Topic5\", \"Topic5\", \"Topic5\", \"Topic5\", \"Topic5\", \"Topic5\", \"Topic5\", \"Topic5\", \"Topic5\", \"Topic5\", \"Topic5\", \"Topic5\", \"Topic5\", \"Topic5\", \"Topic5\", \"Topic5\", \"Topic5\", \"Topic5\", \"Topic5\", \"Topic5\", \"Topic5\", \"Topic5\", \"Topic5\", \"Topic5\", \"Topic5\", \"Topic5\", \"Topic5\", \"Topic5\", \"Topic5\", \"Topic5\", \"Topic5\", \"Topic5\", \"Topic5\", \"Topic5\", \"Topic5\", \"Topic5\", \"Topic5\", \"Topic5\", \"Topic5\", \"Topic5\", \"Topic5\", \"Topic5\", \"Topic6\", \"Topic6\", \"Topic6\", \"Topic6\", \"Topic6\", \"Topic6\", \"Topic6\", \"Topic6\", \"Topic6\", \"Topic6\", \"Topic6\", \"Topic6\", \"Topic6\", \"Topic6\", \"Topic6\", \"Topic6\", \"Topic6\", \"Topic6\", \"Topic6\", \"Topic6\", \"Topic6\", \"Topic6\", \"Topic6\", \"Topic6\", \"Topic6\", \"Topic6\", \"Topic6\", \"Topic6\", \"Topic6\", \"Topic6\", \"Topic6\", \"Topic6\", \"Topic6\", \"Topic6\", \"Topic6\", \"Topic6\", \"Topic6\", \"Topic6\", \"Topic6\", \"Topic6\", \"Topic6\", \"Topic6\", \"Topic6\", \"Topic6\", \"Topic6\", \"Topic6\", \"Topic6\", \"Topic7\", \"Topic7\", \"Topic7\", \"Topic7\", \"Topic7\", \"Topic7\", \"Topic7\", \"Topic7\", \"Topic7\", \"Topic7\", \"Topic7\", \"Topic7\", \"Topic7\", \"Topic7\", \"Topic7\", \"Topic7\", \"Topic7\", \"Topic7\", \"Topic7\", \"Topic7\", \"Topic7\", \"Topic7\", \"Topic7\", \"Topic7\", \"Topic7\", \"Topic7\", \"Topic7\", \"Topic7\", \"Topic7\", \"Topic7\", \"Topic7\", \"Topic7\", \"Topic7\", \"Topic7\", \"Topic7\", \"Topic7\", \"Topic7\", \"Topic7\", \"Topic7\", \"Topic7\", \"Topic7\", \"Topic7\", \"Topic7\", \"Topic7\", \"Topic7\", \"Topic7\", \"Topic7\"], \"Freq\": [4415.0, 2863.0, 2112.0, 9437.0, 2695.0, 1929.0, 1519.0, 2655.0, 1240.0, 1160.0, 1422.0, 1205.0, 6302.0, 1082.0, 1316.0, 2281.0, 2348.0, 989.0, 2117.0, 1171.0, 1256.0, 1191.0, 800.0, 1510.0, 1485.0, 757.0, 1042.0, 1120.0, 896.0, 873.0, 2280.6357421875, 2117.265625, 823.4142456054688, 577.3716430664062, 526.5741577148438, 405.8098449707031, 349.8851623535156, 345.6525573730469, 330.70074462890625, 326.4402160644531, 314.47955322265625, 307.3796081542969, 299.96905517578125, 287.7779846191406, 285.0751647949219, 281.38037109375, 272.6221923828125, 244.0624237060547, 244.08865356445312, 231.32237243652344, 215.72337341308594, 214.6685791015625, 214.0513153076172, 213.45645141601562, 211.85040283203125, 208.5459747314453, 206.13723754882812, 205.37103271484375, 188.41323852539062, 187.26158142089844, 610.7898559570312, 467.4475402832031, 617.6443481445312, 1266.28662109375, 740.1080322265625, 559.48779296875, 387.53985595703125, 303.9396667480469, 983.5203247070312, 773.2470092773438, 730.02294921875, 1706.3829345703125, 470.28643798828125, 567.8792114257812, 866.4656372070312, 1024.2354736328125, 1184.78466796875, 1355.3846435546875, 580.0233154296875, 1636.905517578125, 2558.20947265625, 720.828369140625, 813.343994140625, 1950.898193359375, 544.6107177734375, 1121.74658203125, 1200.099853515625, 1702.2523193359375, 1057.4296875, 1119.2823486328125, 727.27978515625, 1169.806396484375, 1294.0887451171875, 677.0388793945312, 778.3002319335938, 676.8463134765625, 730.0399780273438, 831.0460815429688, 677.5365600585938, 2654.603759765625, 1509.8760986328125, 1484.3905029296875, 1042.6492919921875, 980.8285522460938, 936.6808471679688, 932.959228515625, 918.547607421875, 794.6207885742188, 752.8787841796875, 693.0426025390625, 675.4801025390625, 665.6202392578125, 608.2457885742188, 516.4659423828125, 511.427490234375, 486.9485778808594, 485.0211181640625, 458.30047607421875, 437.2614440917969, 425.73223876953125, 399.78271484375, 392.3656005859375, 388.0859069824219, 340.3211669921875, 293.0760803222656, 285.2068786621094, 276.9707336425781, 253.88833618164062, 217.00303649902344, 2206.05419921875, 1014.7548217773438, 4107.802734375, 657.0415649414062, 5410.97705078125, 625.9652099609375, 825.0311889648438, 1538.95556640625, 634.5548706054688, 2425.469970703125, 1079.474365234375, 1717.1634521484375, 1577.1409912109375, 1480.0899658203125, 897.9567260742188, 660.7115478515625, 738.6497802734375, 836.3197631835938, 778.0703735351562, 741.1889038085938, 686.2951049804688, 2862.489990234375, 1422.1209716796875, 1170.8365478515625, 895.9479370117188, 761.3795166015625, 728.325439453125, 674.1235961914062, 651.4788818359375, 413.32122802734375, 348.79571533203125, 343.4146423339844, 313.3857421875, 287.21697998046875, 227.08314514160156, 219.4103546142578, 206.19122314453125, 190.7880859375, 190.19522094726562, 185.0272216796875, 184.9960174560547, 177.98619079589844, 173.90151977539062, 166.79257202148438, 150.717041015625, 141.45205688476562, 129.43504333496094, 128.87477111816406, 123.36184692382812, 121.07008361816406, 117.8228988647461, 1133.486572265625, 310.0428466796875, 211.9757843017578, 239.8851776123047, 313.4103698730469, 2000.8466796875, 300.23681640625, 345.32354736328125, 295.6705322265625, 256.6605529785156, 308.1417541503906, 742.6640625, 723.806640625, 717.2449340820312, 534.5816650390625, 415.364501953125, 377.16290283203125, 256.26953125, 307.49700927734375, 306.1728210449219, 313.1709899902344, 301.8162841796875, 1928.59130859375, 1315.829833984375, 872.6328735351562, 847.4454956054688, 579.305908203125, 556.6705932617188, 520.3792724609375, 487.9871826171875, 445.50640869140625, 399.1190185546875, 308.664306640625, 292.2732849121094, 265.642578125, 262.8836364746094, 218.5421142578125, 216.70452880859375, 209.27964782714844, 185.19383239746094, 172.34873962402344, 151.4206085205078, 145.7523956298828, 137.21998596191406, 128.7655029296875, 122.07621765136719, 111.70384979248047, 106.45137023925781, 104.96063232421875, 105.13577270507812, 98.71773529052734, 96.35348510742188, 1165.91455078125, 297.8238830566406, 270.7333679199219, 195.7143096923828, 300.6633605957031, 358.5987548828125, 307.3146667480469, 217.1525421142578, 322.6982727050781, 699.1282958984375, 439.4383544921875, 505.7772216796875, 359.9720458984375, 1194.4949951171875, 837.8942260742188, 493.4460754394531, 683.0638427734375, 573.4312133789062, 421.92816162109375, 487.6163024902344, 370.15545654296875, 373.5942687988281, 364.0408020019531, 345.96478271484375, 311.8755187988281, 322.0133056640625, 1518.886962890625, 1082.08544921875, 534.3382568359375, 494.4208679199219, 449.8624267578125, 356.7278747558594, 273.6316833496094, 265.5609130859375, 258.69183349609375, 248.3827362060547, 236.105712890625, 174.2879180908203, 161.18775939941406, 160.43333435058594, 152.04896545410156, 146.4225616455078, 139.11659240722656, 131.1094512939453, 129.7360076904297, 124.7139892578125, 112.23400115966797, 100.45744323730469, 88.23152923583984, 85.48562622070312, 73.82462310791016, 70.45003509521484, 71.935302734375, 69.516845703125, 67.34005737304688, 67.0042495727539, 388.91265869140625, 3691.23779296875, 319.4628601074219, 321.0683288574219, 518.3157348632812, 232.23770141601562, 533.9459228515625, 194.77960205078125, 210.8957061767578, 428.8486328125, 247.96414184570312, 197.85191345214844, 188.43087768554688, 273.2605895996094, 223.89376831054688, 242.42356872558594, 198.00860595703125, 169.29403686523438, 173.3567352294922, 2112.102783203125, 1240.1197509765625, 1159.745361328125, 989.12548828125, 800.0145874023438, 497.4512939453125, 332.9315185546875, 304.54150390625, 297.9247131347656, 296.1710205078125, 273.75396728515625, 253.61572265625, 248.6149444580078, 186.00662231445312, 168.3530731201172, 144.96975708007812, 139.22491455078125, 124.88671112060547, 115.4942626953125, 113.36285400390625, 113.33152770996094, 108.52169799804688, 106.53617095947266, 104.56784057617188, 103.5616683959961, 99.04178619384766, 94.75025939941406, 90.9407730102539, 90.34821319580078, 85.29658508300781, 288.64227294921875, 238.56788635253906, 499.2819519042969, 602.5639038085938, 1156.3953857421875, 155.7804412841797, 375.08282470703125, 216.35841369628906, 131.35089111328125, 168.70814514160156, 182.62796020507812, 226.96812438964844, 311.7402038574219, 192.20501708984375, 171.3439483642578, 167.0177001953125, 171.7877197265625, 557.2262573242188, 375.2688903808594, 334.1622314453125, 333.4683837890625, 202.7465362548828, 192.92649841308594, 173.05572509765625, 160.91714477539062, 146.4462127685547, 138.08851623535156, 131.97779846191406, 129.92111206054688, 125.1560287475586, 128.02308654785156, 119.48088836669922, 114.61738586425781, 113.32231903076172, 109.7171401977539, 112.0711441040039, 105.80325317382812, 105.25718688964844, 103.91380310058594, 98.51364135742188, 96.44541931152344, 96.38774871826172, 93.9496078491211, 88.5001220703125, 87.5953598022461, 87.10823059082031, 79.70098876953125, 80.39956665039062, 170.56214904785156, 911.23583984375, 592.5386352539062, 147.06088256835938, 152.8656768798828, 148.55618286132812, 170.6535186767578, 420.2724914550781, 172.5457305908203, 147.9544677734375, 140.3824462890625, 170.78610229492188, 144.49920654296875, 168.67135620117188, 137.03125, 120.70829010009766], \"Term\": [\"light\", \"battery\", \"tire\", \"car\", \"water\", \"oil\", \"bulb\", \"towel\", \"hose\", \"wheel\", \"power\", \"tool\", \"product\", \"bright\", \"filter\", \"blade\", \"clean\", \"pressure\", \"wiper\", \"device\", \"engine\", \"unit\", \"gauge\", \"wax\", \"leather\", \"seat\", \"air\", \"hand\", \"plug\", \"change\", \"blade\", \"wiper\", \"trailer\", \"bag\", \"snow\", \"solar\", \"lock\", \"sturdy\", \"weight\", \"arm\", \"bolt\", \"cell\", \"length\", \"pocket\", \"outlet\", \"jack\", \"strip\", \"passenger\", \"position\", \"extension\", \"wind\", \"travel\", \"secure\", \"tender\", \"usb\", \"family\", \"spring\", \"strap\", \"construction\", \"bracket\", \"cover\", \"design\", \"windshield\", \"side\", \"heavy\", \"install\", \"solid\", \"screw\", \"size\", \"place\", \"fit\", \"easy\", \"installation\", \"rain\", \"one\", \"plastic\", \"quality\", \"thing\", \"box\", \"work\", \"good\", \"item\", \"large\", \"great\", \"door\", \"nice\", \"little\", \"time\", \"small\", \"price\", \"cheap\", \"use\", \"product\", \"big\", \"way\", \"bit\", \"year\", \"car\", \"part\", \"towel\", \"wax\", \"leather\", \"paint\", \"dry\", \"wash\", \"spray\", \"microfiber\", \"cloth\", \"pad\", \"shine\", \"finish\", \"dirt\", \"cleaning\", \"clay\", \"wipe\", \"smell\", \"dust\", \"polish\", \"coat\", \"drying\", \"interior\", \"griot\", \"meguiar\", \"washing\", \"conditioner\", \"scratch\", \"soap\", \"cleaner\", \"shiny\", \"clean\", \"surface\", \"product\", \"result\", \"car\", \"soft\", \"stuff\", \"water\", \"bottle\", \"good\", \"job\", \"great\", \"use\", \"time\", \"new\", \"black\", \"lot\", \"work\", \"year\", \"nice\", \"easy\", \"battery\", \"power\", \"device\", \"plug\", \"phone\", \"charger\", \"charge\", \"cable\", \"port\", \"cord\", \"automatic\", \"fuse\", \"cigarette\", \"led\", \"laptop\", \"voltage\", \"volt\", \"electrical\", \"dead\", \"torque\", \"amp\", \"indicator\", \"display\", \"terminal\", \"meter\", \"warranty\", \"electronic\", \"mode\", \"jump\", \"bluetooth\", \"unit\", \"information\", \"computer\", \"current\", \"connector\", \"car\", \"feature\", \"wire\", \"test\", \"motorcycle\", \"trip\", \"use\", \"light\", \"time\", \"vehicle\", \"day\", \"small\", \"connection\", \"long\", \"thing\", \"work\", \"year\", \"oil\", \"filter\", \"change\", \"code\", \"app\", \"gas\", \"mile\", \"fuel\", \"fluid\", \"datum\", \"scanner\", \"compressor\", \"mpg\", \"mileage\", \"vacuum\", \"mechanic\", \"software\", \"transmission\", \"coolant\", \"empty\", \"reader\", \"tractor\", \"funnel\", \"acceleration\", \"suction\", \"tab\", \"pan\", \"pricey\", \"purple\", \"quart\", \"engine\", \"sensor\", \"drain\", \"wrench\", \"service\", \"brake\", \"shop\", \"synthetic\", \"auto\", \"price\", \"air\", \"part\", \"system\", \"car\", \"good\", \"vehicle\", \"product\", \"time\", \"year\", \"great\", \"problem\", \"new\", \"quality\", \"well\", \"store\", \"use\", \"bulb\", \"bright\", \"headlight\", \"inverter\", \"mat\", \"jeep\", \"bucket\", \"output\", \"plate\", \"hitch\", \"beam\", \"lens\", \"drill\", \"sanding\", \"vent\", \"remote\", \"ramp\", \"lamp\", \"incandescent\", \"rust\", \"map\", \"brightness\", \"receiver\", \"watt\", \"tail\", \"tailgate\", \"functionality\", \"profile\", \"flash\", \"hair\", \"night\", \"light\", \"stock\", \"blue\", \"white\", \"switch\", \"color\", \"yellow\", \"bumper\", \"kit\", \"low\", \"road\", \"front\", \"great\", \"little\", \"good\", \"high\", \"panel\", \"nice\", \"tire\", \"hose\", \"wheel\", \"pressure\", \"gauge\", \"valve\", \"leak\", \"carpet\", \"sewer\", \"manual\", \"button\", \"nozzle\", \"fitting\", \"sponge\", \"washer\", \"pipe\", \"gear\", \"annoying\", \"stem\", \"medium\", \"portion\", \"bristle\", \"honest\", \"chock\", \"trigger\", \"monitor\", \"mini\", \"class\", \"ignition\", \"glue\", \"seal\", \"tube\", \"tank\", \"air\", \"water\", \"rinse\", \"tape\", \"repair\", \"silicone\", \"pump\", \"brake\", \"kit\", \"use\", \"end\", \"hot\", \"metal\", \"black\", \"brush\", \"chemical\", \"grease\", \"glove\", \"polisher\", \"kid\", \"scraper\", \"ball\", \"gun\", \"task\", \"rim\", \"ride\", \"elbow\", \"crash\", \"alert\", \"scan\", \"helmet\", \"gap\", \"score\", \"license\", \"fun\", \"press\", \"gray\", \"velcro\", \"terrible\", \"middle\", \"bead\", \"sander\", \"wonderful\", \"sharp\", \"tint\", \"wear\", \"tool\", \"seat\", \"comfortable\", \"photo\", \"thread\", \"adhesive\", \"hand\", \"grip\", \"warm\", \"handle\", \"hard\", \"guy\", \"small\", \"enough\", \"driver\"], \"Total\": [4415.0, 2863.0, 2112.0, 9437.0, 2695.0, 1929.0, 1519.0, 2655.0, 1240.0, 1160.0, 1422.0, 1205.0, 6302.0, 1082.0, 1316.0, 2281.0, 2348.0, 989.0, 2117.0, 1171.0, 1256.0, 1191.0, 800.0, 1510.0, 1485.0, 757.0, 1042.0, 1120.0, 896.0, 873.0, 2281.365966796875, 2117.9951171875, 824.1448974609375, 578.1029052734375, 527.3054809570312, 406.54937744140625, 350.6158752441406, 346.3840637207031, 331.4329833984375, 327.1709289550781, 315.2108154296875, 308.1190490722656, 300.70123291015625, 288.5140380859375, 285.810302734375, 282.11077880859375, 273.357421875, 244.79425048828125, 244.82154846191406, 232.05422973632812, 216.4559326171875, 215.400390625, 214.78311157226562, 214.18826293945312, 212.59298706054688, 209.28465270996094, 206.86825561523438, 206.10134887695312, 189.14486694335938, 187.99253845214844, 643.9608764648438, 493.1453552246094, 664.361328125, 1508.0406494140625, 859.5687866210938, 631.8936767578125, 419.8213806152344, 319.58306884765625, 1248.8419189453125, 947.5549926757812, 895.5497436523438, 2724.11669921875, 552.8738403320312, 703.5347900390625, 1242.58251953125, 1550.509033203125, 1917.4991455078125, 2323.304931640625, 739.8567504882812, 3274.028564453125, 6272.07958984375, 1040.72412109375, 1249.5169677734375, 4640.8671875, 697.5244750976562, 2226.93994140625, 2488.113525390625, 4519.41845703125, 2091.7958984375, 2329.482421875, 1184.020751953125, 4146.955078125, 6302.8720703125, 1120.044921875, 1887.5325927734375, 1322.7730712890625, 2319.633056640625, 9437.7265625, 1437.620849609375, 2655.343505859375, 1510.61572265625, 1485.13134765625, 1043.389404296875, 981.5701904296875, 937.4207153320312, 933.7000122070312, 919.287353515625, 795.36083984375, 753.6198120117188, 693.7825927734375, 676.2212524414062, 666.361572265625, 608.98681640625, 517.2055053710938, 512.1685180664062, 487.690185546875, 485.76312255859375, 459.040283203125, 438.0024719238281, 426.472412109375, 400.5263671875, 393.10565185546875, 388.8254699707031, 341.0617370605469, 293.8165588378906, 285.94769287109375, 277.71063232421875, 254.62887573242188, 217.7432098388672, 2348.23388671875, 1139.684326171875, 6302.8720703125, 749.592041015625, 9437.7265625, 726.6365966796875, 1092.0030517578125, 2695.962890625, 794.0103759765625, 6272.07958984375, 1850.2357177734375, 4640.8671875, 4146.955078125, 4519.41845703125, 2023.2763671875, 1005.1455078125, 1710.1671142578125, 3274.028564453125, 2319.633056640625, 2226.93994140625, 2724.11669921875, 2863.231201171875, 1422.86376953125, 1171.5794677734375, 896.69091796875, 762.122314453125, 729.0667724609375, 674.865234375, 652.2212524414062, 414.06427001953125, 349.5382995605469, 344.1608581542969, 314.128173828125, 287.958740234375, 227.83013916015625, 220.15283203125, 206.9328155517578, 191.53005981445312, 190.93881225585938, 185.77059936523438, 185.74082946777344, 178.7284393310547, 174.647216796875, 167.53562927246094, 151.4589385986328, 142.19464111328125, 130.1796875, 129.61851501464844, 124.10547637939453, 121.81177520751953, 118.56623840332031, 1191.943115234375, 331.975341796875, 223.08839416503906, 289.3956604003906, 495.8189697265625, 9437.7265625, 494.09210205078125, 649.6483764648438, 519.207763671875, 392.6717529296875, 585.8560791015625, 4146.955078125, 4415.67724609375, 4519.41845703125, 2310.043701171875, 1334.6798095703125, 2091.7958984375, 427.5080261230469, 1705.343994140625, 2323.304931640625, 3274.028564453125, 2319.633056640625, 1929.296875, 1316.534912109375, 873.3408203125, 848.1854248046875, 580.0169067382812, 557.377685546875, 521.0862426757812, 488.6930236816406, 446.2124328613281, 399.8279113769531, 309.37060546875, 292.98040771484375, 266.3484802246094, 263.5896301269531, 219.25230407714844, 217.4108123779297, 209.9862518310547, 185.8992462158203, 173.05450439453125, 152.13047790527344, 146.4586181640625, 137.92910766601562, 129.47091674804688, 122.7857666015625, 112.42193603515625, 107.163330078125, 105.66678619384766, 105.8465347290039, 99.42339324951172, 97.05866241455078, 1256.3397216796875, 328.87237548828125, 307.0916748046875, 226.11387634277344, 400.2318420410156, 541.8042602539062, 443.94244384765625, 296.8018493652344, 563.7799072265625, 2329.482421875, 1042.5797119140625, 1437.620849609375, 772.7984008789062, 9437.7265625, 6272.07958984375, 2310.043701171875, 6302.8720703125, 4519.41845703125, 2319.633056640625, 4640.8671875, 1421.3919677734375, 2023.2763671875, 1917.4991455078125, 1778.9013671875, 759.3179931640625, 4146.955078125, 1519.628662109375, 1082.8277587890625, 535.0804443359375, 495.1669616699219, 450.608154296875, 357.4708557128906, 274.3758544921875, 266.305908203125, 259.43524169921875, 249.1251678466797, 236.8480987548828, 175.0306396484375, 161.9303741455078, 161.1806640625, 152.7917938232422, 147.16932678222656, 139.859619140625, 131.85198974609375, 130.47805786132812, 125.45724487304688, 112.9859848022461, 101.19939422607422, 88.973876953125, 86.23159790039062, 74.56778717041016, 71.19273376464844, 72.69915771484375, 70.26459503173828, 68.08512878417969, 67.75738525390625, 411.0273742675781, 4415.67724609375, 380.73309326171875, 392.1438903808594, 693.3536376953125, 308.7145690917969, 973.4589233398438, 255.4977264404297, 333.4853515625, 1163.1162109375, 873.8419799804688, 531.2589721679688, 634.8344116210938, 4640.8671875, 2488.113525390625, 6272.07958984375, 1383.713134765625, 595.3671875, 2226.93994140625, 2112.825927734375, 1240.8431396484375, 1160.4688720703125, 989.849365234375, 800.737548828125, 498.1741027832031, 333.6552429199219, 305.26837158203125, 298.6473693847656, 296.89971923828125, 274.4817810058594, 254.33973693847656, 249.3385772705078, 186.7332763671875, 169.0784912109375, 145.69337463378906, 139.95054626464844, 125.61517333984375, 116.2170639038086, 114.08942413330078, 114.06222534179688, 109.24694061279297, 107.2673568725586, 105.29041290283203, 104.29064178466797, 99.77490997314453, 95.47770690917969, 91.66531372070312, 91.07933807373047, 86.0207290649414, 314.86431884765625, 263.66900634765625, 714.0921020507812, 1042.5797119140625, 2695.962890625, 190.2407684326172, 758.8092651367188, 364.7784423828125, 154.6879119873047, 380.21661376953125, 541.8042602539062, 1163.1162109375, 4146.955078125, 885.2010498046875, 524.2793579101562, 541.972412109375, 1005.1455078125, 557.9568481445312, 376.001708984375, 334.8929138183594, 334.2008972167969, 203.47756958007812, 193.66152954101562, 173.78623962402344, 161.64822387695312, 147.17674255371094, 138.8216094970703, 132.70848083496094, 130.65280151367188, 125.88803100585938, 128.78512573242188, 120.23207092285156, 115.35029602050781, 114.05244445800781, 110.44808197021484, 112.82022857666016, 106.53765106201172, 105.9916000366211, 104.64812469482422, 99.24723052978516, 97.17679595947266, 97.1207275390625, 94.68222045898438, 89.23269653320312, 88.33031463623047, 87.84074401855469, 80.43258666992188, 81.13835144042969, 176.657470703125, 1205.2777099609375, 757.1082763671875, 162.651611328125, 178.11956787109375, 179.40133666992188, 242.47366333007812, 1120.1029052734375, 260.2713623046875, 321.92425537109375, 327.93096923828125, 778.14404296875, 395.1103515625, 2091.7958984375, 1076.9595947265625, 653.9692993164062], \"loglift\": [30.0, 29.0, 28.0, 27.0, 26.0, 25.0, 24.0, 23.0, 22.0, 21.0, 20.0, 19.0, 18.0, 17.0, 16.0, 15.0, 14.0, 13.0, 12.0, 11.0, 10.0, 9.0, 8.0, 7.0, 6.0, 5.0, 4.0, 3.0, 2.0, 1.0, 1.1777000427246094, 1.1777000427246094, 1.1770999431610107, 1.176800012588501, 1.1765999794006348, 1.176200032234192, 1.1758999824523926, 1.1758999824523926, 1.1757999658584595, 1.1757999658584595, 1.1756999492645264, 1.1756000518798828, 1.1756000518798828, 1.1755000352859497, 1.1755000352859497, 1.1754000186920166, 1.1753000020980835, 1.1749999523162842, 1.1749999523162842, 1.1749000549316406, 1.1746000051498413, 1.1746000051498413, 1.1746000051498413, 1.1746000051498413, 1.1744999885559082, 1.1744999885559082, 1.1744999885559082, 1.1744999885559082, 1.1742000579833984, 1.1741000413894653, 1.125100016593933, 1.124500036239624, 1.1051000356674194, 1.0032999515533447, 1.02839994430542, 1.0563000440597534, 1.0980000495910645, 1.1277999877929688, 0.9391999840736389, 0.9746999740600586, 0.9736999869346619, 0.7103000283241272, 1.0161999464035034, 0.9638000130653381, 0.8174999952316284, 0.7634000182151794, 0.6966000199317932, 0.6391000151634216, 0.9345999956130981, 0.4848000109195709, 0.28119999170303345, 0.8108000159263611, 0.7487000226974487, 0.31139999628067017, 0.9305999875068665, 0.49230000376701355, 0.4489000141620636, 0.20160000026226044, 0.4957999885082245, 0.44510000944137573, 0.6906999945640564, -0.08749999850988388, -0.4052000045776367, 0.6746000051498413, 0.2921000123023987, 0.5080000162124634, 0.02199999988079071, -1.2517999410629272, 0.42579999566078186, 1.392699956893921, 1.3925000429153442, 1.3925000429153442, 1.392300009727478, 1.392199993133545, 1.392199993133545, 1.392199993133545, 1.392199993133545, 1.3919999599456787, 1.3919999599456787, 1.3918999433517456, 1.3918999433517456, 1.3918999433517456, 1.391800045967102, 1.3914999961853027, 1.3914999961853027, 1.3914999961853027, 1.3913999795913696, 1.3913999795913696, 1.3912999629974365, 1.3911999464035034, 1.3911000490188599, 1.3911000490188599, 1.3911000490188599, 1.3907999992370605, 1.3904999494552612, 1.3904000520706177, 1.3903000354766846, 1.3901000022888184, 1.3896000385284424, 1.3305000066757202, 1.276900053024292, 0.964900016784668, 1.261199951171875, 0.8367000222206116, 1.2438000440597534, 1.1125999689102173, 0.8323000073432922, 1.1687999963760376, 0.44290000200271606, 0.8540999889373779, 0.3986999988555908, 0.4262000024318695, 0.2766999900341034, 0.5806000232696533, 0.9733999967575073, 0.5534999966621399, 0.028200000524520874, 0.30059999227523804, 0.29280000925064087, 0.014399999752640724, 2.0840001106262207, 2.0838000774383545, 2.083699941635132, 2.0834999084472656, 2.0833001136779785, 2.0833001136779785, 2.083199977874756, 2.083199977874756, 2.0824999809265137, 2.082200050354004, 2.0820999145507812, 2.081899881362915, 2.081700086593628, 2.0810000896453857, 2.080899953842163, 2.080699920654297, 2.080399990081787, 2.080399990081787, 2.0803000926971436, 2.0803000926971436, 2.0801000595092773, 2.0799999237060547, 2.079900026321411, 2.079400062561035, 2.0790998935699463, 2.0785999298095703, 2.0785000324249268, 2.0782999992370605, 2.078200101852417, 2.078000068664551, 2.0339999198913574, 2.0160000324249268, 2.0332000255584717, 1.8967000246047974, 1.625599980354309, 0.5332000255584717, 1.5861999988555908, 1.4523999691009521, 1.5211999416351318, 1.65910005569458, 1.4417999982833862, 0.3643999993801117, 0.2759000062942505, 0.243599995970726, 0.6208000183105469, 0.9169999957084656, 0.37119999527931213, 1.57260000705719, 0.37119999527931213, 0.05770000070333481, -0.26269999146461487, 0.04500000178813934, 2.125, 2.124799966812134, 2.1245999336242676, 2.124500036239624, 2.1242001056671143, 2.1240999698638916, 2.124000072479248, 2.1238999366760254, 2.123800039291382, 2.1236000061035156, 2.1231000423431396, 2.122999906539917, 2.1226999759674072, 2.1226999759674072, 2.1221001148223877, 2.1221001148223877, 2.121999979019165, 2.1215999126434326, 2.121299982070923, 2.120699882507324, 2.120500087738037, 2.1201999187469482, 2.1198999881744385, 2.1196000576019287, 2.11899995803833, 2.1187000274658203, 2.1187000274658203, 2.1185998916625977, 2.118299961090088, 2.1180999279022217, 2.0506999492645264, 2.02620005607605, 1.999400019645691, 1.9809999465942383, 1.8393000364303589, 1.7127000093460083, 1.757599949836731, 1.8128999471664429, 1.5673999786376953, 0.9218000173568726, 1.2613999843597412, 1.0807000398635864, 1.3614000082015991, 0.058400001376867294, 0.11240000277757645, 0.5817999839782715, -0.09679999947547913, 0.0608999989926815, 0.42100000381469727, -0.12780000269412994, 0.7799000144004822, 0.4361000061035156, 0.46389999985694885, 0.4880000054836273, 1.2355999946594238, -0.4302000105381012, 2.598400115966797, 2.5982000827789307, 2.5975000858306885, 2.5973000526428223, 2.5971999168395996, 2.5968000888824463, 2.596100091934204, 2.596100091934204, 2.5959999561309814, 2.595900058746338, 2.5957000255584717, 2.594599962234497, 2.5943000316619873, 2.5941998958587646, 2.5940001010894775, 2.5938000679016113, 2.5934998989105225, 2.5931999683380127, 2.593100070953369, 2.592900037765503, 2.5922000408172607, 2.5915000438690186, 2.5905001163482666, 2.5901999473571777, 2.5887999534606934, 2.588399887084961, 2.5882999897003174, 2.588200092315674, 2.5878000259399414, 2.5876998901367188, 2.5434999465942383, 2.4196999073028564, 2.4233999252319336, 2.398900032043457, 2.3078999519348145, 2.314199924468994, 1.9982999563217163, 2.327500104904175, 2.1405999660491943, 1.601099967956543, 1.3392000198364258, 1.6110999584197998, 1.3841999769210815, -0.23340000212192535, 0.1906999945640564, -0.6542999744415283, 0.6546000242233276, 1.3413000106811523, 0.04580000042915344, 2.625999927520752, 2.6257998943328857, 2.625699996948242, 2.6256000995635986, 2.625499963760376, 2.6249001026153564, 2.6242001056671143, 2.624000072479248, 2.6238999366760254, 2.6238999366760254, 2.623699903488159, 2.623500108718872, 2.623500108718872, 2.622499942779541, 2.6221001148223877, 2.6214001178741455, 2.6212000846862793, 2.620500087738037, 2.6201000213623047, 2.619999885559082, 2.6198999881744385, 2.6196999549865723, 2.619499921798706, 2.619499921798706, 2.61929988861084, 2.61899995803833, 2.6187000274658203, 2.6184000968933105, 2.618299961090088, 2.6178998947143555, 2.539400100708008, 2.5262999534606934, 2.2685000896453857, 2.0780999660491943, 1.7798999547958374, 2.426500082015991, 1.9218000173568726, 2.1040000915527344, 2.4628000259399414, 1.8137999773025513, 1.5389000177383423, 0.9922999739646912, 0.03840000182390213, 1.0990999937057495, 1.5080000162124634, 1.4492000341415405, 0.8597000241279602, 2.930500030517578, 2.9298999309539795, 2.9296998977661133, 2.9296000003814697, 2.9282000064849854, 2.927999973297119, 2.9275999069213867, 2.927299976348877, 2.9268999099731445, 2.926500082015991, 2.926300048828125, 2.9261999130249023, 2.9260001182556152, 2.9258999824523926, 2.925600051879883, 2.92549991607666, 2.9254000186920166, 2.9251999855041504, 2.9251999855041504, 2.9249000549316406, 2.9249000549316406, 2.924799919128418, 2.9244000911712646, 2.924299955368042, 2.924299955368042, 2.924099922180176, 2.9235999584198, 2.9235000610351562, 2.9235000610351562, 2.9226999282836914, 2.9226999282836914, 2.896699905395508, 2.6521999835968018, 2.6867001056671143, 2.8310999870300293, 2.778899908065796, 2.7432000637054443, 2.5806000232696533, 1.9515999555587769, 2.5208001136779785, 2.154400110244751, 2.083400011062622, 1.4153000116348267, 1.9258999824523926, 0.414000004529953, 0.8701000213623047, 1.2422000169754028], \"logprob\": [30.0, 29.0, 28.0, 27.0, 26.0, 25.0, 24.0, 23.0, 22.0, 21.0, 20.0, 19.0, 18.0, 17.0, 16.0, 15.0, 14.0, 13.0, 12.0, 11.0, 10.0, 9.0, 8.0, 7.0, 6.0, 5.0, 4.0, 3.0, 2.0, 1.0, -4.182499885559082, -4.256800174713135, -5.201200008392334, -5.55620002746582, -5.6483001708984375, -5.90880012512207, -6.05709981918335, -6.069200038909912, -6.113500118255615, -6.126399993896484, -6.16379976272583, -6.186600208282471, -6.210999965667725, -6.252500057220459, -6.261899948120117, -6.275000095367432, -6.306600093841553, -6.417200088500977, -6.417099952697754, -6.470900058746338, -6.5406999588012695, -6.545599937438965, -6.548500061035156, -6.551199913024902, -6.558800220489502, -6.57450008392334, -6.586100101470947, -6.589900016784668, -6.676000118255615, -6.682199954986572, -5.499899864196777, -5.767399787902832, -5.488800048828125, -4.7708001136779785, -5.3078999519348145, -5.587699890136719, -5.954899787902832, -6.197800159454346, -5.023499965667725, -5.264100074768066, -5.321599960327148, -4.472499847412109, -5.761300086975098, -5.572800159454346, -5.150199890136719, -4.982999801635742, -4.837399959564209, -4.7027997970581055, -5.551599979400635, -4.514100074768066, -4.067599773406982, -5.3343000411987305, -5.213500022888184, -4.338600158691406, -5.61460018157959, -4.892000198364258, -4.82450008392334, -4.474999904632568, -4.951099872589111, -4.894199848175049, -5.325399875640869, -4.850100040435791, -4.749100208282471, -5.396900177001953, -5.257599830627441, -5.397200107574463, -5.321599960327148, -5.191999912261963, -5.396200180053711, -3.815700054168701, -4.379899978637695, -4.396999835968018, -4.750199794769287, -4.811299800872803, -4.857399940490723, -4.861400127410889, -4.8769001960754395, -5.021900177001953, -5.075799942016602, -5.158599853515625, -5.184299945831299, -5.198999881744385, -5.289100170135498, -5.452700138092041, -5.462500095367432, -5.511600017547607, -5.515500068664551, -5.572199821472168, -5.619200229644775, -5.645899772644043, -5.708799839019775, -5.727499961853027, -5.738500118255615, -5.869800090789795, -6.0192999839782715, -6.046500205993652, -6.075799942016602, -6.162799835205078, -6.319799900054932, -4.000800132751465, -4.777299880981445, -3.3791000843048096, -5.211999893188477, -3.1034998893737793, -5.26039981842041, -4.984300136566162, -4.360899925231934, -5.246799945831299, -3.905900001525879, -4.7154998779296875, -4.251299858093262, -4.336400032043457, -4.399899959564209, -4.899600028991699, -5.206399917602539, -5.094900131225586, -4.970699787139893, -5.042900085449219, -5.0914998054504395, -5.168399810791016, -3.0490000247955322, -3.748500108718872, -3.9428999423980713, -4.2104997634887695, -4.373300075531006, -4.417699813842773, -4.494999885559082, -4.529200077056885, -4.9842000007629395, -5.153900146484375, -5.16949987411499, -5.261000156402588, -5.348199844360352, -5.583099842071533, -5.617499828338623, -5.679599761962891, -5.757199764251709, -5.76039981842041, -5.787899971008301, -5.788099765777588, -5.826700210571289, -5.849899768829346, -5.89169979095459, -5.993000030517578, -6.056399822235107, -6.145199775695801, -6.149600028991699, -6.193299770355225, -6.211999893188477, -6.239200115203857, -3.975399971008301, -5.271699905395508, -5.651899814605713, -5.528200149536133, -5.260900020599365, -3.407099962234497, -5.303800106048584, -5.163899898529053, -5.319200038909912, -5.460599899291992, -5.2778000831604, -4.398200035095215, -4.423900127410889, -4.433000087738037, -4.726900100708008, -4.9791998863220215, -5.075699806213379, -5.462200164794922, -5.279900074005127, -5.284299850463867, -5.26170015335083, -5.298600196838379, -3.4028000831604004, -3.785099983215332, -4.195799827575684, -4.225100040435791, -4.605500221252441, -4.645400047302246, -4.712800025939941, -4.7769999504089355, -4.868100166320801, -4.978099822998047, -5.235099792480469, -5.289599895477295, -5.385200023651123, -5.395599842071533, -5.5802998542785645, -5.588799953460693, -5.623700141906738, -5.7459001541137695, -5.817800045013428, -5.947299957275391, -5.985400199890137, -6.0457000732421875, -6.109300136566162, -6.162700176239014, -6.251500129699707, -6.299600124359131, -6.313700199127197, -6.312099933624268, -6.375100135803223, -6.3993000984191895, -3.906100034713745, -5.2708001136779785, -5.366199970245361, -5.690700054168701, -5.261300086975098, -5.085100173950195, -5.239500045776367, -5.586699962615967, -5.1905999183654785, -4.417500019073486, -4.881800174713135, -4.741199970245361, -5.081299781799316, -3.8817999362945557, -4.236400127410889, -4.765900135040283, -4.440700054168701, -4.615699768066406, -4.922500133514404, -4.7778000831604, -5.053400039672852, -5.0441999435424805, -5.070099830627441, -5.120999813079834, -5.224699974060059, -5.192699909210205, -3.168100118637085, -3.507200002670288, -4.212800025939941, -4.290500164031982, -4.384900093078613, -4.6168999671936035, -4.8821001052856445, -4.9120001792907715, -4.938199996948242, -4.978899955749512, -5.029600143432617, -5.333099842071533, -5.411300182342529, -5.415999889373779, -5.469600200653076, -5.507400035858154, -5.558499813079834, -5.617800235748291, -5.628300189971924, -5.667799949645996, -5.7733001708984375, -5.884099960327148, -6.013899803161621, -6.045499801635742, -6.192200183868408, -6.238900184631348, -6.218100070953369, -6.252299785614014, -6.28410005569458, -6.289100170135498, -4.5304999351501465, -2.280100107192993, -4.727200031280518, -4.7221999168396, -4.243299961090088, -5.04610013961792, -4.213600158691406, -5.2220001220703125, -5.142499923706055, -4.432700157165527, -4.980599880218506, -5.206299781799316, -5.255099773406982, -4.883399963378906, -5.082699775695801, -5.003200054168701, -5.20550012588501, -5.362199783325195, -5.338500022888184, -2.8108999729156494, -3.343400001525879, -3.410399913787842, -3.569499969482422, -3.7816998958587646, -4.256800174713135, -4.658400058746338, -4.747499942779541, -4.769499778747559, -4.775400161743164, -4.854100227355957, -4.930500030517578, -4.950399875640869, -5.240600109100342, -5.3403000831604, -5.489799976348877, -5.530300140380859, -5.638899803161621, -5.717100143432617, -5.7357001304626465, -5.736000061035156, -5.779399871826172, -5.797900199890137, -5.816500186920166, -5.826200008392334, -5.870800018310547, -5.91510009765625, -5.956099987030029, -5.962699890136719, -6.020199775695801, -4.801199913024902, -4.991700172424316, -4.253200054168701, -4.065100193023682, -3.413300037384033, -5.417900085449219, -4.5391998291015625, -5.089399814605713, -5.588500022888184, -5.338200092315674, -5.258900165557861, -5.041500091552734, -4.7241997718811035, -5.207799911499023, -5.322700023651123, -5.348199844360352, -5.320099830627441, -3.837899923324585, -4.2332000732421875, -4.3491997718811035, -4.35129976272583, -4.848899841308594, -4.898600101470947, -5.007299900054932, -5.079999923706055, -5.174200057983398, -5.232999801635742, -5.278200149536133, -5.293900012969971, -5.331299781799316, -5.308700084686279, -5.377699851989746, -5.419300079345703, -5.430600166320801, -5.4629998207092285, -5.441699981689453, -5.499300003051758, -5.504499912261963, -5.517300128936768, -5.570700168609619, -5.591899871826172, -5.59250020980835, -5.618100166320801, -5.6778998374938965, -5.6880998611450195, -5.693699836730957, -5.782599925994873, -5.773900032043457, -5.0218000411987305, -3.346100091934204, -3.7764999866485596, -5.170000076293945, -5.13129997253418, -5.159900188446045, -5.021200180053711, -4.119999885559082, -5.010200023651123, -5.164000034332275, -5.2164998054504395, -5.020500183105469, -5.187600135803223, -5.032899856567383, -5.240699768066406, -5.367499828338623]}, \"token.table\": {\"Topic\": [4, 1, 7, 4, 6, 7, 3, 6, 4, 1, 2, 3, 4, 3, 1, 7, 3, 7, 5, 1, 2, 3, 4, 1, 2, 3, 4, 5, 7, 1, 2, 3, 6, 1, 2, 5, 3, 1, 2, 4, 1, 3, 4, 7, 1, 4, 6, 5, 5, 6, 7, 5, 5, 2, 5, 6, 6, 3, 1, 2, 3, 4, 6, 1, 4, 3, 3, 1, 2, 4, 7, 6, 3, 6, 2, 2, 4, 2, 2, 2, 2, 4, 2, 5, 1, 7, 4, 3, 4, 2, 1, 3, 6, 1, 3, 1, 4, 3, 1, 5, 7, 1, 3, 4, 1, 2, 3, 4, 5, 3, 1, 6, 3, 2, 3, 1, 2, 3, 4, 5, 1, 4, 7, 2, 2, 2, 1, 2, 3, 4, 6, 7, 7, 3, 3, 4, 1, 2, 3, 4, 5, 6, 3, 4, 1, 2, 3, 4, 7, 1, 1, 1, 3, 4, 4, 2, 1, 4, 5, 6, 5, 4, 1, 5, 6, 4, 7, 5, 4, 3, 7, 4, 6, 6, 7, 6, 1, 2, 3, 4, 5, 6, 7, 7, 1, 2, 3, 4, 5, 2, 1, 7, 7, 2, 4, 7, 5, 1, 2, 6, 7, 1, 7, 1, 2, 4, 7, 5, 1, 2, 3, 7, 1, 2, 3, 4, 5, 6, 5, 6, 6, 2, 3, 5, 6, 6, 5, 3, 1, 3, 1, 5, 1, 5, 2, 5, 1, 2, 3, 7, 1, 5, 1, 2, 4, 7, 3, 7, 2, 5, 6, 5, 3, 1, 2, 3, 6, 7, 6, 2, 3, 1, 5, 7, 3, 5, 1, 2, 3, 4, 5, 6, 7, 1, 1, 2, 3, 4, 5, 6, 7, 1, 2, 3, 4, 5, 7, 1, 2, 3, 4, 5, 6, 6, 5, 5, 4, 6, 2, 1, 6, 7, 3, 2, 7, 4, 4, 6, 3, 6, 3, 4, 7, 4, 1, 2, 3, 4, 5, 6, 1, 2, 3, 5, 6, 3, 5, 6, 4, 1, 2, 4, 5, 1, 5, 2, 2, 4, 1, 2, 5, 1, 2, 4, 7, 1, 3, 6, 7, 6, 1, 6, 7, 1, 2, 6, 5, 3, 1, 2, 7, 3, 6, 1, 3, 7, 6, 1, 2, 4, 5, 4, 1, 2, 3, 4, 5, 1, 2, 3, 4, 5, 4, 6, 4, 1, 2, 4, 4, 1, 2, 5, 4, 5, 5, 4, 6, 2, 3, 4, 7, 7, 6, 7, 1, 2, 3, 5, 6, 5, 7, 5, 7, 4, 7, 7, 2, 1, 5, 2, 6, 2, 7, 1, 3, 4, 1, 3, 4, 6, 7, 2, 2, 2, 3, 4, 7, 1, 2, 5, 2, 6, 1, 2, 1, 2, 3, 6, 7, 2, 1, 2, 2, 7, 4, 1, 1, 4, 6, 2, 1, 6, 4, 5, 1, 2, 4, 6, 1, 1, 2, 4, 6, 1, 4, 2, 6, 1, 5, 2, 4, 1, 2, 3, 4, 5, 6, 4, 5, 5, 4, 6, 1, 6, 7, 1, 3, 7, 1, 2, 3, 1, 2, 3, 4, 4, 7, 1, 2, 3, 4, 6, 7, 6, 4, 7, 3, 2, 4, 1, 4, 1, 6, 1, 3, 4, 4, 6, 1, 3, 1, 1, 2, 3, 4, 6, 7, 4, 6, 1, 2, 3, 4, 5, 7, 5, 3, 3, 2, 3, 5, 7, 3, 2, 6, 2, 2, 6, 5, 2, 1, 2, 3, 4, 5, 6, 4, 7, 1, 1, 2, 4, 5, 6, 6, 2, 5, 1, 1, 2, 2, 1, 1, 3, 7, 1, 2, 3, 4, 5, 6, 7, 4, 5, 1, 2, 3, 4, 5, 2, 3, 5], \"Freq\": [0.9936004877090454, 0.29281529784202576, 0.705231249332428, 0.42107093334198, 0.5783730149269104, 0.9897525310516357, 0.9959242939949036, 0.9951027035713196, 0.9982467889785767, 0.9964210391044617, 0.3174997866153717, 0.10819824784994125, 0.5729185938835144, 0.9966269731521606, 0.9980921745300293, 0.9959899187088013, 0.9995700120925903, 0.9973922371864319, 0.9964192509651184, 0.6044400334358215, 0.24909715354442596, 0.08749648928642273, 0.058926209807395935, 0.5118035674095154, 0.2918111979961395, 0.006803888361901045, 0.08920653164386749, 0.08315863460302353, 0.017387714236974716, 0.16017581522464752, 0.6576162576675415, 0.01094368938356638, 0.17111949622631073, 0.9998396039009094, 0.17850589752197266, 0.8185770511627197, 0.9952242970466614, 0.9961587190628052, 0.7997376322746277, 0.20024926960468292, 0.783935546875, 0.07163549214601517, 0.062174197286367416, 0.08244839310646057, 0.9947203397750854, 0.6626009345054626, 0.3377603590488434, 0.9992355704307556, 0.9881482124328613, 0.9977396130561829, 0.9982851147651672, 0.998630166053772, 0.999586284160614, 0.07496581226587296, 0.6327114701271057, 0.29386597871780396, 0.9982447624206543, 0.9981275200843811, 0.08805086463689804, 0.5733372569084167, 0.21202139556407928, 0.1265135258436203, 0.9991208910942078, 0.9963681101799011, 0.9996097683906555, 0.9987179040908813, 0.9985368251800537, 0.6140094995498657, 0.15371352434158325, 0.23141486942768097, 0.9973359107971191, 0.9972417950630188, 0.9966705441474915, 0.9927419424057007, 0.9976692199707031, 0.9394294023513794, 0.060470979660749435, 0.9975302219390869, 0.9983795881271362, 0.9995463490486145, 0.9977112412452698, 0.9986023902893066, 0.45096921920776367, 0.5485593676567078, 0.09222164750099182, 0.9037721753120422, 0.99665367603302, 0.9502959847450256, 0.04930780827999115, 0.9972208738327026, 0.1637396216392517, 0.5988191962242126, 0.23625287413597107, 0.36706945300102234, 0.6312788128852844, 0.9939471483230591, 0.9939064979553223, 0.9984599947929382, 0.9488154053688049, 0.051245350390672684, 0.9939035773277283, 0.16931836307048798, 0.8293144106864929, 0.9979293346405029, 0.25474274158477783, 0.30569130182266235, 0.31093600392341614, 0.07941979914903641, 0.04945006221532822, 0.9958518743515015, 0.9469824433326721, 0.050694990903139114, 0.9995054006576538, 0.9994574189186096, 0.9968028664588928, 0.7813345789909363, 0.21791349351406097, 0.11722883582115173, 0.8824726343154907, 0.994254469871521, 0.7416250109672546, 0.07339794188737869, 0.1850239783525467, 0.999419093132019, 0.9988923072814941, 0.998429000377655, 0.6262580752372742, 0.2518247365951538, 0.014316567219793797, 0.07011447101831436, 0.022392580285668373, 0.014683659188449383, 0.9929458498954773, 0.9950831532478333, 0.9952281713485718, 0.9925690293312073, 0.5388606190681458, 0.12200617790222168, 0.024853110313415527, 0.05987340211868286, 0.03727966547012329, 0.21689987182617188, 0.07163667678833008, 0.928092896938324, 0.49955448508262634, 0.15878033638000488, 0.1801367551088333, 0.03435597941279411, 0.12720997631549835, 0.9954569935798645, 0.9986398816108704, 0.34608933329582214, 0.6071742177009583, 0.0445261113345623, 0.9995936751365662, 0.9981939792633057, 0.8151417374610901, 0.08039754629135132, 0.10384682565927505, 0.998642086982727, 0.9840621948242188, 0.999523937702179, 0.6426872611045837, 0.29614022374153137, 0.05985812842845917, 0.9985818862915039, 0.9906445145606995, 0.9903828501701355, 0.9963627457618713, 0.9964085817337036, 0.9959430694580078, 0.9993224143981934, 0.9990789294242859, 0.9932079911231995, 0.9964066743850708, 0.9881339073181152, 0.40783920884132385, 0.38663411140441895, 0.02949579991400242, 0.13360799849033356, 0.03858369588851929, 0.003667045384645462, 0.9975089430809021, 0.9973337054252625, 0.4203955829143524, 0.36997395753860474, 0.045681118965148926, 0.10515276342630386, 0.058825213462114334, 0.9971873760223389, 0.3342665135860443, 0.6646908521652222, 0.9920045733451843, 0.49859488010406494, 0.13667067885398865, 0.36445513367652893, 0.9888221025466919, 0.1294523924589157, 0.4517441987991333, 0.042853206396102905, 0.3749655485153198, 0.5702419877052307, 0.4269191026687622, 0.4472179710865021, 0.2184685468673706, 0.11437471210956573, 0.21975365281105042, 0.9979807734489441, 0.8608967661857605, 0.12099090218544006, 0.017450610175728798, 0.9907722473144531, 0.318707674741745, 0.17489174008369446, 0.07443739473819733, 0.21247178316116333, 0.14309324324131012, 0.07660547643899918, 0.9954835176467896, 0.9975075721740723, 0.9993205070495605, 0.20790442824363708, 0.31853246688842773, 0.1468682587146759, 0.3261619806289673, 0.9881494641304016, 0.9963361024856567, 0.9962941408157349, 0.06325770914554596, 0.9338042736053467, 0.884642481803894, 0.11394321918487549, 0.850103497505188, 0.1483159363269806, 0.9986858367919922, 0.9976432919502258, 0.6927868723869324, 0.08743911981582642, 0.14605215191841125, 0.0739869475364685, 0.9960626363754272, 0.9986827969551086, 0.33130913972854614, 0.5831689238548279, 0.050263866782188416, 0.034590188413858414, 0.9933358430862427, 0.9965841174125671, 0.43589797616004944, 0.36883676052093506, 0.19516536593437195, 0.9935382604598999, 0.9947634935379028, 0.6506514549255371, 0.25449833273887634, 0.040815770626068115, 0.015205875970423222, 0.03921515494585037, 0.9980361461639404, 0.9992381930351257, 0.9963563084602356, 0.9976680278778076, 0.9941116571426392, 0.9949533939361572, 0.163961261510849, 0.8358853459358215, 0.48229309916496277, 0.24757713079452515, 0.0506407767534256, 0.061492372304201126, 0.09002804756164551, 0.03818153589963913, 0.029741408303380013, 0.9982434511184692, 0.39581456780433655, 0.28967761993408203, 0.18002232909202576, 0.09616827964782715, 0.025801245123147964, 0.0005863919504918158, 0.011141447350382805, 0.3204365074634552, 0.43212151527404785, 0.09004967659711838, 0.11460868269205093, 0.02923690900206566, 0.014033716171979904, 0.2666386067867279, 0.03776426613330841, 0.21285313367843628, 0.12244776636362076, 0.28380417823791504, 0.07667290419340134, 0.9969696402549744, 0.9912734031677246, 0.9986503720283508, 0.9981104135513306, 0.9904511570930481, 0.9978770017623901, 0.631028413772583, 0.3081337511539459, 0.060888707637786865, 0.9915985465049744, 0.9996874332427979, 0.9927946329116821, 0.9979154467582703, 0.9977630972862244, 0.9949966669082642, 0.9910924434661865, 0.992233395576477, 0.6544906497001648, 0.19609253108501434, 0.15025272965431213, 0.9986916184425354, 0.23229649662971497, 0.4438345730304718, 0.03855133429169655, 0.18484869599342346, 0.06474646925926208, 0.03558584675192833, 0.5038303732872009, 0.3327435851097107, 0.04176134243607521, 0.07768507301807404, 0.04355752840638161, 0.05109148845076561, 0.9464089870452881, 0.9986642599105835, 0.9998461008071899, 0.6969355940818787, 0.1352022886276245, 0.0659915953874588, 0.10140171647071838, 0.9971649050712585, 0.9988512992858887, 0.9991775751113892, 0.9996268153190613, 0.9936897158622742, 0.5223667025566101, 0.19147847592830658, 0.28385844826698303, 0.47161251306533813, 0.15929095447063446, 0.3519704043865204, 0.017389843240380287, 0.9967554211616516, 0.9985274076461792, 0.1403551548719406, 0.8589735627174377, 0.9952408671379089, 0.8157837986946106, 0.0738743394613266, 0.10975616425275803, 0.6604282855987549, 0.27990806102752686, 0.05933535099029541, 0.9983223676681519, 0.9992294907569885, 0.998218297958374, 0.9977337718009949, 0.9976529479026794, 0.9974296689033508, 0.9906873106956482, 0.9966443181037903, 0.9993929266929626, 0.9938066005706787, 0.9991419315338135, 0.48036420345306396, 0.16613131761550903, 0.30006664991378784, 0.053230710327625275, 0.9920022487640381, 0.4368956685066223, 0.04924749955534935, 0.20050767064094543, 0.2603082060813904, 0.052061643451452255, 0.20530323684215546, 0.6517663598060608, 0.03458740562200546, 0.10836330056190491, 0.9962342977523804, 0.5549468398094177, 0.4444834589958191, 0.9957414865493774, 0.6179924607276917, 0.19191664457321167, 0.18983058631420135, 0.9890925288200378, 0.8073517084121704, 0.19188816845417023, 0.9938536882400513, 0.9968686103820801, 0.9890543222427368, 0.9920545220375061, 0.40572571754455566, 0.592140257358551, 0.8764767646789551, 0.03868770971894264, 0.08404571563005447, 0.9950035214424133, 0.9946613907814026, 0.8200135231018066, 0.1787208914756775, 0.3576410114765167, 0.07717517018318176, 0.07529284805059433, 0.3726995885372162, 0.11670391261577606, 0.9963553547859192, 0.9962604641914368, 0.9926748871803284, 0.9969632029533386, 0.9988020658493042, 0.9927297830581665, 0.9954758286476135, 0.996685802936554, 0.9512394070625305, 0.04693615436553955, 0.0825752541422844, 0.9178556799888611, 0.21661366522312164, 0.7832432985305786, 0.9963539242744446, 0.09122079610824585, 0.9061265587806702, 0.08994786441326141, 0.15740875899791718, 0.7520641088485718, 0.9978323578834534, 0.994621753692627, 0.9988719820976257, 0.9965867400169373, 0.04054579511284828, 0.022525442764163017, 0.6915310621261597, 0.24552732706069946, 0.8394998908042908, 0.08952013403177261, 0.07028988003730774, 0.1486864686012268, 0.8468664288520813, 0.7879300117492676, 0.21219658851623535, 0.5053074359893799, 0.23185817897319794, 0.18022790551185608, 0.0014341743662953377, 0.08079182356595993, 0.9985848069190979, 0.999420702457428, 0.9974411129951477, 0.861503541469574, 0.13762037456035614, 0.9953032732009888, 0.9986487030982971, 0.924202561378479, 0.07622288912534714, 0.9960731267929077, 0.9992502927780151, 0.9958028793334961, 0.9895276427268982, 0.16021722555160522, 0.8378573060035706, 0.42801567912101746, 0.1461838185787201, 0.41089504957199097, 0.014486684463918209, 0.9946562647819519, 0.9986924529075623, 0.7554923892021179, 0.16941344738006592, 0.07417561858892441, 0.9988912343978882, 0.996246874332428, 0.8905974626541138, 0.10880205780267715, 0.24618209898471832, 0.7515032291412354, 0.266170859336853, 0.7311275005340576, 0.07116992026567459, 0.07634591311216354, 0.2523297071456909, 0.4658394753932953, 0.024585971608757973, 0.1086958795785904, 0.9891443252563477, 0.9923856258392334, 0.983246386051178, 0.2996812164783478, 0.6987894177436829, 0.5047381520271301, 0.4941953420639038, 0.9940815567970276, 0.9944522380828857, 0.9969698786735535, 0.9884604811668396, 0.3158658444881439, 0.11363466084003448, 0.5700993537902832, 0.583220899105072, 0.19110706448554993, 0.13170892000198364, 0.0938318520784378, 0.16722282767295837, 0.8305400609970093, 0.376597136259079, 0.32747575640678406, 0.15864872932434082, 0.1267862170934677, 0.01017830055207014, 0.9859702587127686, 0.999609112739563, 0.24309749901294708, 0.755842387676239, 0.99601149559021, 0.9998706579208374, 0.9932639002799988, 0.99861079454422, 0.9951627254486084, 0.9981411695480347, 0.9972131848335266, 0.3243117332458496, 0.5257263779640198, 0.14850063621997833, 0.09481584280729294, 0.906439483165741, 0.0486600399017334, 0.9505487084388733, 0.997210681438446, 0.2821347117424011, 0.380279004573822, 0.17916759848594666, 0.07764733582735062, 0.07523592561483383, 0.0055462378077209, 0.9988492727279663, 0.9976431727409363, 0.26060113310813904, 0.24198676645755768, 0.23159734904766083, 0.21341587603092194, 0.05237996205687523, 0.9878901839256287, 0.994817852973938, 0.9972324967384338, 0.995492160320282, 0.12114650756120682, 0.19569820165634155, 0.2236550897359848, 0.4597354829311371, 0.9909380078315735, 0.9995511770248413, 0.9936213493347168, 0.9968869686126709, 0.5708535313606262, 0.42878928780555725, 0.9857175350189209, 0.9995924234390259, 0.41217830777168274, 0.2686046361923218, 0.11973302811384201, 0.08635612577199936, 0.06410485506057739, 0.04874087870121002, 0.03396403044462204, 0.9679749011993408, 0.998693585395813, 0.37888553738594055, 0.33335182070732117, 0.1945020705461502, 0.07701382786035538, 0.01630219630897045, 0.9995959401130676, 0.25095418095588684, 0.7470934987068176, 0.9978936314582825, 0.9302166700363159, 0.06923943012952805, 0.9977185130119324, 0.9995301365852356, 0.4679454565048218, 0.5310565233230591, 0.9904287457466125, 0.4999956488609314, 0.25534293055534363, 0.09560087323188782, 0.09010306000709534, 0.026267332956194878, 0.023518426343798637, 0.009163022972643375, 0.8668198585510254, 0.13267651200294495, 0.314704954624176, 0.335397869348526, 0.13019300997257233, 0.18192532658576965, 0.03793703392148018, 0.20352432131767273, 0.031311433762311935, 0.7632161974906921], \"Term\": [\"acceleration\", \"adhesive\", \"adhesive\", \"air\", \"air\", \"alert\", \"amp\", \"annoying\", \"app\", \"arm\", \"auto\", \"auto\", \"auto\", \"automatic\", \"bag\", \"ball\", \"battery\", \"bead\", \"beam\", \"big\", \"big\", \"big\", \"big\", \"bit\", \"bit\", \"bit\", \"bit\", \"bit\", \"bit\", \"black\", \"black\", \"black\", \"black\", \"blade\", \"blue\", \"blue\", \"bluetooth\", \"bolt\", \"bottle\", \"bottle\", \"box\", \"box\", \"box\", \"box\", \"bracket\", \"brake\", \"brake\", \"bright\", \"brightness\", \"bristle\", \"brush\", \"bucket\", \"bulb\", \"bumper\", \"bumper\", \"bumper\", \"button\", \"cable\", \"car\", \"car\", \"car\", \"car\", \"carpet\", \"cell\", \"change\", \"charge\", \"charger\", \"cheap\", \"cheap\", \"cheap\", \"chemical\", \"chock\", \"cigarette\", \"class\", \"clay\", \"clean\", \"clean\", \"cleaner\", \"cleaning\", \"cloth\", \"coat\", \"code\", \"color\", \"color\", \"comfortable\", \"comfortable\", \"compressor\", \"computer\", \"computer\", \"conditioner\", \"connection\", \"connection\", \"connection\", \"connector\", \"connector\", \"construction\", \"coolant\", \"cord\", \"cover\", \"cover\", \"crash\", \"current\", \"current\", \"datum\", \"day\", \"day\", \"day\", \"day\", \"day\", \"dead\", \"design\", \"design\", \"device\", \"dirt\", \"display\", \"door\", \"door\", \"drain\", \"drain\", \"drill\", \"driver\", \"driver\", \"driver\", \"dry\", \"drying\", \"dust\", \"easy\", \"easy\", \"easy\", \"easy\", \"easy\", \"easy\", \"elbow\", \"electrical\", \"electronic\", \"empty\", \"end\", \"end\", \"end\", \"end\", \"end\", \"end\", \"engine\", \"engine\", \"enough\", \"enough\", \"enough\", \"enough\", \"enough\", \"extension\", \"family\", \"feature\", \"feature\", \"feature\", \"filter\", \"finish\", \"fit\", \"fit\", \"fit\", \"fitting\", \"flash\", \"fluid\", \"front\", \"front\", \"front\", \"fuel\", \"fun\", \"functionality\", \"funnel\", \"fuse\", \"gap\", \"gas\", \"gauge\", \"gear\", \"glove\", \"glue\", \"good\", \"good\", \"good\", \"good\", \"good\", \"good\", \"gray\", \"grease\", \"great\", \"great\", \"great\", \"great\", \"great\", \"griot\", \"grip\", \"grip\", \"gun\", \"guy\", \"guy\", \"guy\", \"hair\", \"hand\", \"hand\", \"hand\", \"hand\", \"handle\", \"handle\", \"hard\", \"hard\", \"hard\", \"hard\", \"headlight\", \"heavy\", \"heavy\", \"heavy\", \"helmet\", \"high\", \"high\", \"high\", \"high\", \"high\", \"high\", \"hitch\", \"honest\", \"hose\", \"hot\", \"hot\", \"hot\", \"hot\", \"ignition\", \"incandescent\", \"indicator\", \"information\", \"information\", \"install\", \"install\", \"installation\", \"installation\", \"interior\", \"inverter\", \"item\", \"item\", \"item\", \"item\", \"jack\", \"jeep\", \"job\", \"job\", \"job\", \"job\", \"jump\", \"kid\", \"kit\", \"kit\", \"kit\", \"lamp\", \"laptop\", \"large\", \"large\", \"large\", \"large\", \"large\", \"leak\", \"leather\", \"led\", \"length\", \"lens\", \"license\", \"light\", \"light\", \"little\", \"little\", \"little\", \"little\", \"little\", \"little\", \"little\", \"lock\", \"long\", \"long\", \"long\", \"long\", \"long\", \"long\", \"long\", \"lot\", \"lot\", \"lot\", \"lot\", \"lot\", \"lot\", \"low\", \"low\", \"low\", \"low\", \"low\", \"low\", \"manual\", \"map\", \"mat\", \"mechanic\", \"medium\", \"meguiar\", \"metal\", \"metal\", \"metal\", \"meter\", \"microfiber\", \"middle\", \"mile\", \"mileage\", \"mini\", \"mode\", \"monitor\", \"motorcycle\", \"motorcycle\", \"motorcycle\", \"mpg\", \"new\", \"new\", \"new\", \"new\", \"new\", \"new\", \"nice\", \"nice\", \"nice\", \"nice\", \"nice\", \"night\", \"night\", \"nozzle\", \"oil\", \"one\", \"one\", \"one\", \"one\", \"outlet\", \"output\", \"pad\", \"paint\", \"pan\", \"panel\", \"panel\", \"panel\", \"part\", \"part\", \"part\", \"part\", \"passenger\", \"phone\", \"photo\", \"photo\", \"pipe\", \"place\", \"place\", \"place\", \"plastic\", \"plastic\", \"plastic\", \"plate\", \"plug\", \"pocket\", \"polish\", \"polisher\", \"port\", \"portion\", \"position\", \"power\", \"press\", \"pressure\", \"price\", \"price\", \"price\", \"price\", \"pricey\", \"problem\", \"problem\", \"problem\", \"problem\", \"problem\", \"product\", \"product\", \"product\", \"product\", \"profile\", \"pump\", \"pump\", \"purple\", \"quality\", \"quality\", \"quality\", \"quart\", \"rain\", \"rain\", \"ramp\", \"reader\", \"receiver\", \"remote\", \"repair\", \"repair\", \"result\", \"result\", \"result\", \"ride\", \"rim\", \"rinse\", \"rinse\", \"road\", \"road\", \"road\", \"road\", \"road\", \"rust\", \"sander\", \"sanding\", \"scan\", \"scanner\", \"score\", \"scraper\", \"scratch\", \"screw\", \"screw\", \"seal\", \"seal\", \"seat\", \"seat\", \"secure\", \"sensor\", \"sensor\", \"service\", \"service\", \"service\", \"sewer\", \"sharp\", \"shine\", \"shiny\", \"shop\", \"shop\", \"shop\", \"shop\", \"side\", \"side\", \"side\", \"silicone\", \"silicone\", \"size\", \"size\", \"small\", \"small\", \"small\", \"small\", \"small\", \"smell\", \"snow\", \"soap\", \"soft\", \"soft\", \"software\", \"solar\", \"solid\", \"solid\", \"sponge\", \"spray\", \"spring\", \"stem\", \"stock\", \"stock\", \"store\", \"store\", \"store\", \"store\", \"strap\", \"strip\", \"stuff\", \"stuff\", \"stuff\", \"sturdy\", \"suction\", \"surface\", \"surface\", \"switch\", \"switch\", \"synthetic\", \"synthetic\", \"system\", \"system\", \"system\", \"system\", \"system\", \"system\", \"tab\", \"tail\", \"tailgate\", \"tank\", \"tank\", \"tape\", \"tape\", \"task\", \"tender\", \"terminal\", \"terrible\", \"test\", \"test\", \"test\", \"thing\", \"thing\", \"thing\", \"thing\", \"thread\", \"thread\", \"time\", \"time\", \"time\", \"time\", \"time\", \"tint\", \"tire\", \"tool\", \"tool\", \"torque\", \"towel\", \"tractor\", \"trailer\", \"transmission\", \"travel\", \"trigger\", \"trip\", \"trip\", \"trip\", \"tube\", \"tube\", \"unit\", \"unit\", \"usb\", \"use\", \"use\", \"use\", \"use\", \"use\", \"use\", \"vacuum\", \"valve\", \"vehicle\", \"vehicle\", \"vehicle\", \"vehicle\", \"vehicle\", \"velcro\", \"vent\", \"volt\", \"voltage\", \"warm\", \"warm\", \"warm\", \"warm\", \"warranty\", \"wash\", \"washer\", \"washing\", \"water\", \"water\", \"watt\", \"wax\", \"way\", \"way\", \"way\", \"way\", \"way\", \"way\", \"wear\", \"wear\", \"weight\", \"well\", \"well\", \"well\", \"well\", \"well\", \"wheel\", \"white\", \"white\", \"wind\", \"windshield\", \"windshield\", \"wipe\", \"wiper\", \"wire\", \"wire\", \"wonderful\", \"work\", \"work\", \"work\", \"work\", \"work\", \"work\", \"work\", \"wrench\", \"wrench\", \"year\", \"year\", \"year\", \"year\", \"year\", \"yellow\", \"yellow\", \"yellow\"]}, \"R\": 30, \"lambda.step\": 0.01, \"plot.opts\": {\"xlab\": \"PC1\", \"ylab\": \"PC2\"}, \"topic.order\": [4, 3, 1, 7, 5, 2, 6]};\n",
       "\n",
       "function LDAvis_load_lib(url, callback){\n",
       "  var s = document.createElement('script');\n",
       "  s.src = url;\n",
       "  s.async = true;\n",
       "  s.onreadystatechange = s.onload = callback;\n",
       "  s.onerror = function(){console.warn(\"failed to load library \" + url);};\n",
       "  document.getElementsByTagName(\"head\")[0].appendChild(s);\n",
       "}\n",
       "\n",
       "if(typeof(LDAvis) !== \"undefined\"){\n",
       "   // already loaded: just create the visualization\n",
       "   !function(LDAvis){\n",
       "       new LDAvis(\"#\" + \"ldavis_el196581405013520594727144993472\", ldavis_el196581405013520594727144993472_data);\n",
       "   }(LDAvis);\n",
       "}else if(typeof define === \"function\" && define.amd){\n",
       "   // require.js is available: use it to load d3/LDAvis\n",
       "   require.config({paths: {d3: \"https://cdnjs.cloudflare.com/ajax/libs/d3/3.5.5/d3.min\"}});\n",
       "   require([\"d3\"], function(d3){\n",
       "      window.d3 = d3;\n",
       "      LDAvis_load_lib(\"https://cdn.rawgit.com/bmabey/pyLDAvis/files/ldavis.v1.0.0.js\", function(){\n",
       "        new LDAvis(\"#\" + \"ldavis_el196581405013520594727144993472\", ldavis_el196581405013520594727144993472_data);\n",
       "      });\n",
       "    });\n",
       "}else{\n",
       "    // require.js not available: dynamically load d3 & LDAvis\n",
       "    LDAvis_load_lib(\"https://cdnjs.cloudflare.com/ajax/libs/d3/3.5.5/d3.min.js\", function(){\n",
       "         LDAvis_load_lib(\"https://cdn.rawgit.com/bmabey/pyLDAvis/files/ldavis.v1.0.0.js\", function(){\n",
       "                 new LDAvis(\"#\" + \"ldavis_el196581405013520594727144993472\", ldavis_el196581405013520594727144993472_data);\n",
       "            })\n",
       "         });\n",
       "}\n",
       "</script>"
      ],
      "text/plain": [
       "PreparedData(topic_coordinates=              x         y  topics  cluster       Freq\n",
       "topic                                                \n",
       "3     -0.103057  0.044642       1        1  30.788410\n",
       "2     -0.128198  0.044337       2        1  24.833488\n",
       "0     -0.106117  0.053139       3        1  12.439408\n",
       "6     -0.125852  0.022326       4        1  11.938789\n",
       "4     -0.076856 -0.052883       5        1   7.435883\n",
       "1      0.190006 -0.335626       6        1   7.234111\n",
       "5      0.350075  0.224066       7        1   5.329905, topic_info=    Category         Freq     Term        Total  loglift  logprob\n",
       "136  Default  4415.000000    light  4415.000000  30.0000  30.0000\n",
       "36   Default  2863.000000  battery  2863.000000  29.0000  29.0000\n",
       "304  Default  2112.000000     tire  2112.000000  28.0000  28.0000\n",
       "2    Default  9437.000000      car  9437.000000  27.0000  27.0000\n",
       "487  Default  2695.000000    water  2695.000000  26.0000  26.0000\n",
       "..       ...          ...      ...          ...      ...      ...\n",
       "47    Topic7   170.786102     hard   778.144043   1.4153  -5.0205\n",
       "268   Topic7   144.499207      guy   395.110352   1.9259  -5.1876\n",
       "62    Topic7   168.671356    small  2091.795898   0.4140  -5.0329\n",
       "107   Topic7   137.031250   enough  1076.959595   0.8701  -5.2407\n",
       "262   Topic7   120.708290   driver   653.969299   1.2422  -5.3675\n",
       "\n",
       "[401 rows x 6 columns], token_table=      Topic      Freq          Term\n",
       "term                               \n",
       "1519      4  0.993600  acceleration\n",
       "1903      1  0.292815      adhesive\n",
       "1903      7  0.705231      adhesive\n",
       "473       4  0.421071           air\n",
       "473       6  0.578373           air\n",
       "...     ...       ...           ...\n",
       "248       4  0.181925          year\n",
       "248       5  0.037937          year\n",
       "1407      2  0.203524        yellow\n",
       "1407      3  0.031311        yellow\n",
       "1407      5  0.763216        yellow\n",
       "\n",
       "[602 rows x 3 columns], R=30, lambda_step=0.01, plot_opts={'xlab': 'PC1', 'ylab': 'PC2'}, topic_order=[4, 3, 1, 7, 5, 2, 6])"
      ]
     },
     "execution_count": 37,
     "metadata": {},
     "output_type": "execute_result"
    }
   ],
   "source": [
    "pyLDAvis.enable_notebook()\n",
    "vis = pyLDAvis.gensim.prepare(lda_model, doc_term_matrix, dictionary)\n",
    "vis"
   ]
  }
 ],
 "metadata": {
  "kernelspec": {
   "display_name": "Python 3",
   "language": "python",
   "name": "python3"
  },
  "language_info": {
   "codemirror_mode": {
    "name": "ipython",
    "version": 3
   },
   "file_extension": ".py",
   "mimetype": "text/x-python",
   "name": "python",
   "nbconvert_exporter": "python",
   "pygments_lexer": "ipython3",
   "version": "3.7.4"
  }
 },
 "nbformat": 4,
 "nbformat_minor": 4
}
